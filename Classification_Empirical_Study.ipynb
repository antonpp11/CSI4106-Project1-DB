{
 "cells": [
  {
   "cell_type": "markdown",
   "metadata": {
    "id": "nmUpvJsfTYRD"
   },
   "source": [
    "# CSI4106 - Introduction to Artificial Intelligence\n",
    "## Project 1 - Classification Empirical Study\n",
    "---\n",
    "## Fall 2022\n",
    "## School of Electrical Engineering and Computer Science\n",
    "---\n",
    "### Professor : Caroline Barrière\n",
    "---\n",
    "#### Group : 9\n",
    "#### Student 1: Alexander Onofrei, \\#300089694\n",
    "#### Student 2: Anton Pellerin-Petrov, \\#300092454\n",
    "---\n",
    "#### Submission Date: November 1st, 2022"
   ]
  },
  {
   "cell_type": "markdown",
   "metadata": {
    "id": "XXfqzQVUFyGj"
   },
   "source": [
    "The goal of this project is to complete both the classification study and it's documentation. This project will detail the steps taken in order to set-up the this classification. Furthermore, 3 different classification alogirthm will be used: \n",
    "- Naïve Bayes\n",
    "- Logisitc Regression\n",
    "- Multi-Layer Perceptron\n",
    "\n",
    "For each model, there will be data preparation, model training, testing using cross-validation, evaluation using precision/recall measures, parameter modification and finally result analysis. \n",
    "\n",
    "\n",
    "#1.&nbsp;Understanding the classification task for our dataset\n",
    "\n",
    "In order to complete this project, we'll be using a dataset containing an overview of all internation men's team soccer matches played since the 90's. With this data, we'll be able to train our model in order to predict the winner and loser of past and future FIFA matches. On top of doing the aforementioned tasks for each model, we will chose the most precise model and predict the winner of the FIFA WORLD CUP 2022. This means we will predict the winners of each group stage until the very end: the winner of the world's cup final. Hence, this prediction can be used for betting across multiple sport betting plateforms or to simply pique one's curiosity. \n",
    "\n",
    "In order to do so, we've chosen the following dataset from Brenda Loznik which can be found [here](#scrollTo=iopsxD81TPBP&line=1&uniqifier=1). This dataset is a binary classification because for each football match registered, the teams are classified as winner or loosers. The given data can only be classified into two classes."
   ]
  },
  {
   "cell_type": "code",
   "execution_count": null,
   "metadata": {
    "id": "LP790OHXQf-O"
   },
   "outputs": [],
   "source": [
    "# general imports\n",
    "import sklearn\n",
    "import pandas as pd\n",
    "import numpy as np\n",
    "import datetime as dt\n",
    "import matplotlib.pyplot as plt\n",
    "from statistics import mean\n",
    "from tabulate import tabulate\n"
   ]
  },
  {
   "cell_type": "markdown",
   "metadata": {
    "id": "apBHC7zGGG3b"
   },
   "source": [
    "#2.&nbsp;Analyzing our dataset\n",
    "The following section will analyze our data by providing training examples, features and missing data of the selected dataset. \n",
    "\n",
    "Some data representation regarding the FIFA ranking of the top 8 FIFA men's teams is also shown in order to represent the variation of their ranking across the years."
   ]
  },
  {
   "cell_type": "markdown",
   "metadata": {
    "id": "WgrgpCYKaLZ-"
   },
   "source": [
    "##2.1&nbsp;Training Examples\n",
    "\n",
    "Some training examples that can be made for this dataset set include:\n",
    "- Does home team advantage truely exist?\n",
    "- Longest winning streak by any team.\n",
    "- Does a stronger offense rating means more scoring goals? Does a stronger defense means receiving more goals?\n",
    "- What are the chances of the strongest rated team winning the match?"
   ]
  },
  {
   "cell_type": "markdown",
   "metadata": {
    "id": "zuP_oTisaOEq"
   },
   "source": [
    "##2.2&nbsp;Number of Features\n",
    "\n",
    "Below is a list of all the features for each world cup game and their data type. The strength of each team is based on the actual FIFA rankings and the players strength, for example the home_team_mean_defense_score, is based on the EA Sport FIFA video game ratings."
   ]
  },
  {
   "cell_type": "code",
   "execution_count": null,
   "metadata": {
    "colab": {
     "base_uri": "https://localhost:8080/"
    },
    "id": "J_GbtKeOWusJ",
    "outputId": "c1155f82-4f99-4650-d019-b0886d098889"
   },
   "outputs": [
    {
     "data": {
      "text/plain": [
       "date                              object\n",
       "home_team                         object\n",
       "away_team                         object\n",
       "home_team_continent               object\n",
       "away_team_continent               object\n",
       "home_team_fifa_rank                int64\n",
       "away_team_fifa_rank                int64\n",
       "home_team_total_fifa_points        int64\n",
       "away_team_total_fifa_points        int64\n",
       "home_team_score                    int64\n",
       "away_team_score                    int64\n",
       "tournament                        object\n",
       "city                              object\n",
       "country                           object\n",
       "neutral_location                    bool\n",
       "shoot_out                         object\n",
       "home_team_result                  object\n",
       "home_team_goalkeeper_score       float64\n",
       "away_team_goalkeeper_score       float64\n",
       "home_team_mean_defense_score     float64\n",
       "home_team_mean_offense_score     float64\n",
       "home_team_mean_midfield_score    float64\n",
       "away_team_mean_defense_score     float64\n",
       "away_team_mean_offense_score     float64\n",
       "away_team_mean_midfield_score    float64\n",
       "dtype: object"
      ]
     },
     "execution_count": 3,
     "metadata": {},
     "output_type": "execute_result"
    }
   ],
   "source": [
    "# Importing the data from our github repository\n",
    "df_url = 'https://raw.githubusercontent.com/antonpp11/CSI4106-Project1-DB/master/international_matches.csv'\n",
    "df = pd.read_csv(df_url)\n",
    "df.dtypes"
   ]
  },
  {
   "cell_type": "markdown",
   "metadata": {
    "id": "REfchYmVzRtf"
   },
   "source": [
    "## 2.3 Missing Data\n",
    "\n",
    "  As our dataset contains only the internation men's football games since summer of 2022, it does not contain the games that will be played at the FIFA World Cup. This means these games and all of their associated information will need to be added at the very end of the dataset. Therefore, the selected prediction model will be in charge of completing it by determinating the winner and looser of each game. "
   ]
  },
  {
   "cell_type": "markdown",
   "metadata": {
    "id": "Y7FvwHqDetjA"
   },
   "source": [
    "## 2.4 Dataset  Data representation\n",
    "\n",
    "This section will seek to represent the current top 8 FIFA men's FIFA teams and their FIFA ranking from the past 10 years. This is only to show how much the FIFA ranking of a team can change over the years. This results to the fact that most recent years are more important to the model than older years.\n",
    "\n",
    "It is important to know that the lower the FIFA Ranking is, the better the team was that year. For example, a FIFA ranking of 2 is better than a FIFA ranking of 5. Also, it is impossible for 2 teams to have the same FIFA ranking for a specific year because each team has to have different FIFA ranking scores."
   ]
  },
  {
   "cell_type": "code",
   "execution_count": null,
   "metadata": {
    "colab": {
     "base_uri": "https://localhost:8080/",
     "height": 1000
    },
    "id": "XXBioh2yX9r-",
    "outputId": "235084b3-e1ec-43c4-e9c5-e96cb9c50ef6"
   },
   "outputs": [
    {
     "data": {
      "image/png": "[encoded data removed]",
      "text/plain": [
       "<Figure size 432x288 with 1 Axes>"
      ]
     },
     "metadata": {
      "needs_background": "light"
     },
     "output_type": "display_data"
    },
    {
     "data": {
      "image/png": "[encoded data removed]",
      "text/plain": [
       "<Figure size 432x288 with 1 Axes>"
      ]
     },
     "metadata": {
      "needs_background": "light"
     },
     "output_type": "display_data"
    },
    {
     "data": {
      "image/png": "[encoded data removed]",
      "text/plain": [
       "<Figure size 432x288 with 1 Axes>"
      ]
     },
     "metadata": {
      "needs_background": "light"
     },
     "output_type": "display_data"
    },
    {
     "data": {
      "image/png": "[encoded data removed]",
      "text/plain": [
       "<Figure size 432x288 with 1 Axes>"
      ]
     },
     "metadata": {
      "needs_background": "light"
     },
     "output_type": "display_data"
    },
    {
     "data": {
      "image/png": "[encoded data removed]",
      "text/plain": [
       "<Figure size 432x288 with 1 Axes>"
      ]
     },
     "metadata": {
      "needs_background": "light"
     },
     "output_type": "display_data"
    },
    {
     "data": {
      "image/png": "[encoded data removed]",
      "text/plain": [
       "<Figure size 432x288 with 1 Axes>"
      ]
     },
     "metadata": {
      "needs_background": "light"
     },
     "output_type": "display_data"
    },
    {
     "data": {
      "image/png": "[encoded data removed]",
      "text/plain": [
       "<Figure size 432x288 with 1 Axes>"
      ]
     },
     "metadata": {
      "needs_background": "light"
     },
     "output_type": "display_data"
    },
    {
     "data": {
      "image/png": "[encoded data removed]",
      "text/plain": [
       "<Figure size 432x288 with 1 Axes>"
      ]
     },
     "metadata": {
      "needs_background": "light"
     },
     "output_type": "display_data"
    }
   ],
   "source": [
    "filtered_team = df.loc[((df['home_team']=='Brazil'))]\n",
    "plt = filtered_team.plot(x=\"date\", y = \"home_team_fifa_rank\")\n",
    "plt.set_title('Brazil FIFA Ranking for the last 20 years')\n",
    "plt.set_xlabel(\"Date\")\n",
    "plt.set_xlim(40,160)\n",
    "plt.set_ylim(1,25)\n",
    "plt.set_ylabel(\"FIFA Ranking\")\n",
    "plt.get_legend().remove()\n",
    "\n",
    "\n",
    "filtered_team = df.loc[((df['home_team']=='Belgium'))]\n",
    "plt = filtered_team.plot(x=\"date\", y = \"home_team_fifa_rank\")\n",
    "plt.set_title('Belgium FIFA Ranking for the last 20 years')\n",
    "plt.set_xlabel(\"Date\")\n",
    "plt.set_xlim(40,160)\n",
    "plt.set_ylim(1,70)\n",
    "plt.set_ylabel(\"FIFA Ranking\")\n",
    "plt.get_legend().remove()\n",
    "\n",
    "filtered_team = df.loc[((df['home_team']=='Argentina'))]\n",
    "plt = filtered_team.plot(x=\"date\", y = \"home_team_fifa_rank\")\n",
    "plt.set_title('Argentina FIFA Ranking for the last 20 years')\n",
    "plt.set_xlabel(\"Date\")\n",
    "plt.set_xlim(60,160)\n",
    "plt.set_ylim(1,15)\n",
    "plt.set_ylabel(\"FIFA Ranking\")\n",
    "plt.get_legend().remove()\n",
    "\n",
    "\n",
    "filtered_team = df.loc[((df['home_team']=='France'))]\n",
    "plt = filtered_team.plot(x=\"date\", y = \"home_team_fifa_rank\")\n",
    "plt.set_title('France FIFA Ranking for the last 20 years')\n",
    "plt.set_xlabel(\"Date\")\n",
    "plt.set_xlim(60,160)\n",
    "plt.set_ylim(1,30)\n",
    "plt.set_ylabel(\"FIFA Ranking\")\n",
    "plt.get_legend().remove()\n",
    "\n",
    "filtered_team = df.loc[((df['home_team']=='England'))]\n",
    "plt = filtered_team.plot(x=\"date\", y = \"home_team_fifa_rank\")\n",
    "plt.set_title('England FIFA Ranking for the last 20 years')\n",
    "plt.set_xlabel(\"Date\")\n",
    "plt.set_xlim(60,160)\n",
    "plt.set_ylim(1,22)\n",
    "plt.set_ylabel(\"FIFA Ranking\")\n",
    "plt.get_legend().remove()\n",
    "\n",
    "filtered_team = df.loc[((df['home_team']=='Italy'))]\n",
    "plt = filtered_team.plot(x=\"date\", y = \"home_team_fifa_rank\")\n",
    "plt.set_title('Italy FIFA Ranking for the last 20 years')\n",
    "plt.set_xlabel(\"Date\")\n",
    "plt.set_xlim(60,160)\n",
    "plt.set_ylim(1,22)\n",
    "plt.set_ylabel(\"FIFA Ranking\")\n",
    "plt.get_legend().remove()\n",
    "\n",
    "filtered_team = df.loc[((df['home_team']=='Spain'))]\n",
    "plt = filtered_team.plot(x=\"date\", y = \"home_team_fifa_rank\")\n",
    "plt.set_title('Spain FIFA Ranking for the last 20 years')\n",
    "plt.set_xlabel(\"Date\")\n",
    "plt.set_xlim(60,160)\n",
    "plt.set_ylim(1,13)\n",
    "plt.set_ylabel(\"FIFA Ranking\")\n",
    "plt.get_legend().remove()\n",
    "\n",
    "filtered_team = df.loc[((df['home_team']=='Netherlands'))]\n",
    "plt = filtered_team.plot(x=\"date\", y = \"home_team_fifa_rank\")\n",
    "plt.set_title('Netherlands FIFA Ranking for the last 20 years')\n",
    "plt.set_xlabel(\"Date\")\n",
    "plt.set_xlim(60,160)\n",
    "plt.set_ylim(1,35)\n",
    "plt.set_ylabel(\"FIFA Ranking\")\n",
    "plt.get_legend().remove()\n"
   ]
  },
  {
   "cell_type": "markdown",
   "metadata": {
    "id": "OWMM_hJwGSa9"
   },
   "source": [
    "#3.&nbsp;Brainstorming about the attributes (Feature Engineering)\n",
    "\n",
    "As seen in the above table, our dataset contains a multiple number of useless features in predicting the winner of this year's FIFA World Cup. As all teams will be playing in the same continent and the same country, all related information to this will be removed. Therefore, the neutral_location variable will be kept because the country Qatar will be playing all home games. Hence, the value of this attribute for Qatar will be set to false but for all other countries it will be true. Also, as we seek only to predict the winner of each game, we will remove the home team and away team score. If we were to keep it, we would need to predict the score for each match of the world cup in order to predict its winner. It will then become a multi-class classification instead of a binary cllassification. Also, everything related to the rating of the players will be removed as it is not usefull for our prediction. Finally, the total fifa points for each team is directly related to their fifa ranking meaning that if we use the fifa ranking attribute, we do not need the total fifa points. \n",
    "\n"
   ]
  },
  {
   "cell_type": "code",
   "execution_count": null,
   "metadata": {
    "id": "f9HVNxvsAaar"
   },
   "outputs": [],
   "source": [
    "# we can remove multiple features listed below\n",
    "features_to_remove = ['city',\n",
    "                      'home_team_continent',\n",
    "                      'away_team_continent',\n",
    "                      'home_team_score',\n",
    "                      'away_team_score',\n",
    "                      'tournament',\n",
    "                      'country',\n",
    "                      'shoot_out',\n",
    "                      'home_team_total_fifa_points',\n",
    "                      'away_team_total_fifa_points',\n",
    "                      'home_team_goalkeeper_score',\n",
    "                      'away_team_goalkeeper_score',\n",
    "                      'home_team_mean_defense_score',\n",
    "                      'home_team_mean_offense_score',\n",
    "                      'home_team_mean_midfield_score',\n",
    "                      'away_team_mean_defense_score',\n",
    "                      'away_team_mean_offense_score',\n",
    "                      'away_team_mean_midfield_score']\n",
    "df = df.drop(features_to_remove, axis=1)"
   ]
  },
  {
   "cell_type": "markdown",
   "metadata": {
    "id": "TO_woiB75YVY"
   },
   "source": [
    "Also, as we will be having a binary classification of winner or looser, we will ignore all matches that ended in a draw. Also, all the matches during the World Cup after the group stages must always end up with a winner: making the draw not possible."
   ]
  },
  {
   "cell_type": "code",
   "execution_count": null,
   "metadata": {
    "id": "DjIdXviJ5T3r"
   },
   "outputs": [],
   "source": [
    "# As explained above, we will drop the draws from our training data because we\n",
    "# to try to predict winners only\n",
    "df = df[df['home_team_result'] != \"Draw\"]"
   ]
  },
  {
   "cell_type": "markdown",
   "metadata": {
    "id": "fLlz6Drx5TmG"
   },
   "source": [
    "Hence, the remaining attributes are:"
   ]
  },
  {
   "cell_type": "code",
   "execution_count": null,
   "metadata": {
    "colab": {
     "base_uri": "https://localhost:8080/"
    },
    "id": "Gzk6ZD3c5tVG",
    "outputId": "14275545-207c-43cd-cd55-9ae3ee6f24d7"
   },
   "outputs": [
    {
     "data": {
      "text/plain": [
       "date                   object\n",
       "home_team              object\n",
       "away_team              object\n",
       "home_team_fifa_rank     int64\n",
       "away_team_fifa_rank     int64\n",
       "neutral_location         bool\n",
       "home_team_result       object\n",
       "dtype: object"
      ]
     },
     "execution_count": 7,
     "metadata": {},
     "output_type": "execute_result"
    }
   ],
   "source": [
    "df.dtypes"
   ]
  },
  {
   "cell_type": "markdown",
   "metadata": {
    "id": "BO4q2Z136AKh"
   },
   "source": [
    "The date attribute was kept because older matches have a less significant weight on the prediction. The most recent matches have a bigger weight because the players and staff of those teams will likely be the same during the world cup. \n",
    "\n",
    "We also kept the home_team and away_team attributes because it is possible that a home team is more likely of winning the match. This is based on the home team advantage principle. More information about this advantage can be found this article from [(Hegde, 2022)](#scrollTo=damyzQg57tV_&line=1&uniqifier=1).\n",
    "\n",
    "The fifa ranks of each teams (home team and away team) are the most crucial attributes in predicting the winner of a match. In fact, a team with a higher fifa rank would be more prone in winning a match versus a lower rank fifa team. Also, the neutral_location attribute is kept because the country Qatar will be technicaly playing all home games. Therefore, the neutral_location will be set to true for the country Qatar but not for the other countries. \n",
    "\n",
    "Finally, the home_team_result is the attribute that will be predicted by our models.It is a boolean type value, meaning that if it is true, the home team won and if it is false, it lost the game. Hence, if the home team won, the away team lost. This is why the away_team_result is not predicted by our models.\n",
    "\n"
   ]
  },
  {
   "cell_type": "markdown",
   "metadata": {
    "id": "0cgMcUGpQlAv"
   },
   "source": [
    "In the table below, you can see all the games of the 2022 FIFA World Cup in a different dataset, but using the same structure. As previously mentionned, the dataset only contained played games until summer 2022. As the World Cup is in November 2022, these games weren't part of our dataset.\n"
   ]
  },
  {
   "cell_type": "code",
   "execution_count": null,
   "metadata": {
    "colab": {
     "base_uri": "https://localhost:8080/",
     "height": 1000
    },
    "id": "q44xrxsncejZ",
    "outputId": "184c5642-f0e3-4ef6-cdbb-5133c7392689"
   },
   "outputs": [
    {
     "data": {
      "text/html": [
       "\n",
       "  <div id=\"df-2b22162f-8bf1-4f00-83c8-309c0af20d20\">\n",
       "    <div class=\"colab-df-container\">\n",
       "      <div>\n",
       "<style scoped>\n",
       "    .dataframe tbody tr th:only-of-type {\n",
       "        vertical-align: middle;\n",
       "    }\n",
       "\n",
       "    .dataframe tbody tr th {\n",
       "        vertical-align: top;\n",
       "    }\n",
       "\n",
       "    .dataframe thead th {\n",
       "        text-align: right;\n",
       "    }\n",
       "</style>\n",
       "<table border=\"1\" class=\"dataframe\">\n",
       "  <thead>\n",
       "    <tr style=\"text-align: right;\">\n",
       "      <th></th>\n",
       "      <th>date</th>\n",
       "      <th>home_team</th>\n",
       "      <th>away_team</th>\n",
       "      <th>home_team_continent</th>\n",
       "      <th>away_team_continent</th>\n",
       "      <th>home_team_fifa_rank</th>\n",
       "      <th>away_team_fifa_rank</th>\n",
       "      <th>home_team_total_fifa_points</th>\n",
       "      <th>away_team_total_fifa_points</th>\n",
       "      <th>home_team_score</th>\n",
       "      <th>...</th>\n",
       "      <th>shoot_out</th>\n",
       "      <th>home_team_result</th>\n",
       "      <th>home_team_goalkeeper_score</th>\n",
       "      <th>away_team_goalkeeper_score</th>\n",
       "      <th>home_team_mean_defense_score</th>\n",
       "      <th>home_team_mean_offense_score</th>\n",
       "      <th>home_team_mean_midfield_score</th>\n",
       "      <th>away_team_mean_defense_score</th>\n",
       "      <th>away_team_mean_offense_score</th>\n",
       "      <th>away_team_mean_midfield_score</th>\n",
       "    </tr>\n",
       "  </thead>\n",
       "  <tbody>\n",
       "    <tr>\n",
       "      <th>0</th>\n",
       "      <td>2022-11-20</td>\n",
       "      <td>Qatar</td>\n",
       "      <td>Ecuador</td>\n",
       "      <td>NaN</td>\n",
       "      <td>NaN</td>\n",
       "      <td>50</td>\n",
       "      <td>44</td>\n",
       "      <td>NaN</td>\n",
       "      <td>NaN</td>\n",
       "      <td>NaN</td>\n",
       "      <td>...</td>\n",
       "      <td>True</td>\n",
       "      <td>NaN</td>\n",
       "      <td>NaN</td>\n",
       "      <td>NaN</td>\n",
       "      <td>NaN</td>\n",
       "      <td>NaN</td>\n",
       "      <td>NaN</td>\n",
       "      <td>NaN</td>\n",
       "      <td>NaN</td>\n",
       "      <td>NaN</td>\n",
       "    </tr>\n",
       "    <tr>\n",
       "      <th>1</th>\n",
       "      <td>2022-11-21</td>\n",
       "      <td>England</td>\n",
       "      <td>Iran</td>\n",
       "      <td>NaN</td>\n",
       "      <td>NaN</td>\n",
       "      <td>5</td>\n",
       "      <td>20</td>\n",
       "      <td>NaN</td>\n",
       "      <td>NaN</td>\n",
       "      <td>NaN</td>\n",
       "      <td>...</td>\n",
       "      <td>NaN</td>\n",
       "      <td>NaN</td>\n",
       "      <td>NaN</td>\n",
       "      <td>NaN</td>\n",
       "      <td>NaN</td>\n",
       "      <td>NaN</td>\n",
       "      <td>NaN</td>\n",
       "      <td>NaN</td>\n",
       "      <td>NaN</td>\n",
       "      <td>NaN</td>\n",
       "    </tr>\n",
       "    <tr>\n",
       "      <th>2</th>\n",
       "      <td>2022-11-21</td>\n",
       "      <td>Senegal</td>\n",
       "      <td>Netherlands</td>\n",
       "      <td>NaN</td>\n",
       "      <td>NaN</td>\n",
       "      <td>18</td>\n",
       "      <td>8</td>\n",
       "      <td>NaN</td>\n",
       "      <td>NaN</td>\n",
       "      <td>NaN</td>\n",
       "      <td>...</td>\n",
       "      <td>NaN</td>\n",
       "      <td>NaN</td>\n",
       "      <td>NaN</td>\n",
       "      <td>NaN</td>\n",
       "      <td>NaN</td>\n",
       "      <td>NaN</td>\n",
       "      <td>NaN</td>\n",
       "      <td>NaN</td>\n",
       "      <td>NaN</td>\n",
       "      <td>NaN</td>\n",
       "    </tr>\n",
       "    <tr>\n",
       "      <th>3</th>\n",
       "      <td>2022-11-21</td>\n",
       "      <td>USA</td>\n",
       "      <td>Wales</td>\n",
       "      <td>NaN</td>\n",
       "      <td>NaN</td>\n",
       "      <td>16</td>\n",
       "      <td>19</td>\n",
       "      <td>NaN</td>\n",
       "      <td>NaN</td>\n",
       "      <td>NaN</td>\n",
       "      <td>...</td>\n",
       "      <td>NaN</td>\n",
       "      <td>NaN</td>\n",
       "      <td>NaN</td>\n",
       "      <td>NaN</td>\n",
       "      <td>NaN</td>\n",
       "      <td>NaN</td>\n",
       "      <td>NaN</td>\n",
       "      <td>NaN</td>\n",
       "      <td>NaN</td>\n",
       "      <td>NaN</td>\n",
       "    </tr>\n",
       "    <tr>\n",
       "      <th>4</th>\n",
       "      <td>2022-11-22</td>\n",
       "      <td>Argentina</td>\n",
       "      <td>Saudi Arabia</td>\n",
       "      <td>NaN</td>\n",
       "      <td>NaN</td>\n",
       "      <td>3</td>\n",
       "      <td>51</td>\n",
       "      <td>NaN</td>\n",
       "      <td>NaN</td>\n",
       "      <td>NaN</td>\n",
       "      <td>...</td>\n",
       "      <td>NaN</td>\n",
       "      <td>NaN</td>\n",
       "      <td>NaN</td>\n",
       "      <td>NaN</td>\n",
       "      <td>NaN</td>\n",
       "      <td>NaN</td>\n",
       "      <td>NaN</td>\n",
       "      <td>NaN</td>\n",
       "      <td>NaN</td>\n",
       "      <td>NaN</td>\n",
       "    </tr>\n",
       "    <tr>\n",
       "      <th>5</th>\n",
       "      <td>2022-11-22</td>\n",
       "      <td>Denmark</td>\n",
       "      <td>Tunisia</td>\n",
       "      <td>NaN</td>\n",
       "      <td>NaN</td>\n",
       "      <td>10</td>\n",
       "      <td>30</td>\n",
       "      <td>NaN</td>\n",
       "      <td>NaN</td>\n",
       "      <td>NaN</td>\n",
       "      <td>...</td>\n",
       "      <td>NaN</td>\n",
       "      <td>NaN</td>\n",
       "      <td>NaN</td>\n",
       "      <td>NaN</td>\n",
       "      <td>NaN</td>\n",
       "      <td>NaN</td>\n",
       "      <td>NaN</td>\n",
       "      <td>NaN</td>\n",
       "      <td>NaN</td>\n",
       "      <td>NaN</td>\n",
       "    </tr>\n",
       "    <tr>\n",
       "      <th>6</th>\n",
       "      <td>2022-11-22</td>\n",
       "      <td>Mexico</td>\n",
       "      <td>Poland</td>\n",
       "      <td>NaN</td>\n",
       "      <td>NaN</td>\n",
       "      <td>13</td>\n",
       "      <td>26</td>\n",
       "      <td>NaN</td>\n",
       "      <td>NaN</td>\n",
       "      <td>NaN</td>\n",
       "      <td>...</td>\n",
       "      <td>NaN</td>\n",
       "      <td>NaN</td>\n",
       "      <td>NaN</td>\n",
       "      <td>NaN</td>\n",
       "      <td>NaN</td>\n",
       "      <td>NaN</td>\n",
       "      <td>NaN</td>\n",
       "      <td>NaN</td>\n",
       "      <td>NaN</td>\n",
       "      <td>NaN</td>\n",
       "    </tr>\n",
       "    <tr>\n",
       "      <th>7</th>\n",
       "      <td>2022-11-22</td>\n",
       "      <td>France</td>\n",
       "      <td>Australia</td>\n",
       "      <td>NaN</td>\n",
       "      <td>NaN</td>\n",
       "      <td>4</td>\n",
       "      <td>38</td>\n",
       "      <td>NaN</td>\n",
       "      <td>NaN</td>\n",
       "      <td>NaN</td>\n",
       "      <td>...</td>\n",
       "      <td>NaN</td>\n",
       "      <td>NaN</td>\n",
       "      <td>NaN</td>\n",
       "      <td>NaN</td>\n",
       "      <td>NaN</td>\n",
       "      <td>NaN</td>\n",
       "      <td>NaN</td>\n",
       "      <td>NaN</td>\n",
       "      <td>NaN</td>\n",
       "      <td>NaN</td>\n",
       "    </tr>\n",
       "    <tr>\n",
       "      <th>8</th>\n",
       "      <td>2022-11-23</td>\n",
       "      <td>Morocco</td>\n",
       "      <td>Croatia</td>\n",
       "      <td>NaN</td>\n",
       "      <td>NaN</td>\n",
       "      <td>22</td>\n",
       "      <td>12</td>\n",
       "      <td>NaN</td>\n",
       "      <td>NaN</td>\n",
       "      <td>NaN</td>\n",
       "      <td>...</td>\n",
       "      <td>NaN</td>\n",
       "      <td>NaN</td>\n",
       "      <td>NaN</td>\n",
       "      <td>NaN</td>\n",
       "      <td>NaN</td>\n",
       "      <td>NaN</td>\n",
       "      <td>NaN</td>\n",
       "      <td>NaN</td>\n",
       "      <td>NaN</td>\n",
       "      <td>NaN</td>\n",
       "    </tr>\n",
       "    <tr>\n",
       "      <th>9</th>\n",
       "      <td>2022-11-23</td>\n",
       "      <td>Germany</td>\n",
       "      <td>Japan</td>\n",
       "      <td>NaN</td>\n",
       "      <td>NaN</td>\n",
       "      <td>11</td>\n",
       "      <td>24</td>\n",
       "      <td>NaN</td>\n",
       "      <td>NaN</td>\n",
       "      <td>NaN</td>\n",
       "      <td>...</td>\n",
       "      <td>NaN</td>\n",
       "      <td>NaN</td>\n",
       "      <td>NaN</td>\n",
       "      <td>NaN</td>\n",
       "      <td>NaN</td>\n",
       "      <td>NaN</td>\n",
       "      <td>NaN</td>\n",
       "      <td>NaN</td>\n",
       "      <td>NaN</td>\n",
       "      <td>NaN</td>\n",
       "    </tr>\n",
       "    <tr>\n",
       "      <th>10</th>\n",
       "      <td>2022-11-23</td>\n",
       "      <td>Spain</td>\n",
       "      <td>Costa Rica</td>\n",
       "      <td>NaN</td>\n",
       "      <td>NaN</td>\n",
       "      <td>7</td>\n",
       "      <td>31</td>\n",
       "      <td>NaN</td>\n",
       "      <td>NaN</td>\n",
       "      <td>NaN</td>\n",
       "      <td>...</td>\n",
       "      <td>NaN</td>\n",
       "      <td>NaN</td>\n",
       "      <td>NaN</td>\n",
       "      <td>NaN</td>\n",
       "      <td>NaN</td>\n",
       "      <td>NaN</td>\n",
       "      <td>NaN</td>\n",
       "      <td>NaN</td>\n",
       "      <td>NaN</td>\n",
       "      <td>NaN</td>\n",
       "    </tr>\n",
       "    <tr>\n",
       "      <th>11</th>\n",
       "      <td>2022-11-23</td>\n",
       "      <td>Belgium</td>\n",
       "      <td>Canada</td>\n",
       "      <td>NaN</td>\n",
       "      <td>NaN</td>\n",
       "      <td>2</td>\n",
       "      <td>41</td>\n",
       "      <td>NaN</td>\n",
       "      <td>NaN</td>\n",
       "      <td>NaN</td>\n",
       "      <td>...</td>\n",
       "      <td>NaN</td>\n",
       "      <td>NaN</td>\n",
       "      <td>NaN</td>\n",
       "      <td>NaN</td>\n",
       "      <td>NaN</td>\n",
       "      <td>NaN</td>\n",
       "      <td>NaN</td>\n",
       "      <td>NaN</td>\n",
       "      <td>NaN</td>\n",
       "      <td>NaN</td>\n",
       "    </tr>\n",
       "    <tr>\n",
       "      <th>12</th>\n",
       "      <td>2022-11-24</td>\n",
       "      <td>Switzerland</td>\n",
       "      <td>Cameroon</td>\n",
       "      <td>NaN</td>\n",
       "      <td>NaN</td>\n",
       "      <td>15</td>\n",
       "      <td>43</td>\n",
       "      <td>NaN</td>\n",
       "      <td>NaN</td>\n",
       "      <td>NaN</td>\n",
       "      <td>...</td>\n",
       "      <td>NaN</td>\n",
       "      <td>NaN</td>\n",
       "      <td>NaN</td>\n",
       "      <td>NaN</td>\n",
       "      <td>NaN</td>\n",
       "      <td>NaN</td>\n",
       "      <td>NaN</td>\n",
       "      <td>NaN</td>\n",
       "      <td>NaN</td>\n",
       "      <td>NaN</td>\n",
       "    </tr>\n",
       "    <tr>\n",
       "      <th>13</th>\n",
       "      <td>2022-11-24</td>\n",
       "      <td>Uruguay</td>\n",
       "      <td>Korea Republic</td>\n",
       "      <td>NaN</td>\n",
       "      <td>NaN</td>\n",
       "      <td>14</td>\n",
       "      <td>28</td>\n",
       "      <td>NaN</td>\n",
       "      <td>NaN</td>\n",
       "      <td>NaN</td>\n",
       "      <td>...</td>\n",
       "      <td>NaN</td>\n",
       "      <td>NaN</td>\n",
       "      <td>NaN</td>\n",
       "      <td>NaN</td>\n",
       "      <td>NaN</td>\n",
       "      <td>NaN</td>\n",
       "      <td>NaN</td>\n",
       "      <td>NaN</td>\n",
       "      <td>NaN</td>\n",
       "      <td>NaN</td>\n",
       "    </tr>\n",
       "    <tr>\n",
       "      <th>14</th>\n",
       "      <td>2022-11-24</td>\n",
       "      <td>Portugal</td>\n",
       "      <td>Ghana</td>\n",
       "      <td>NaN</td>\n",
       "      <td>NaN</td>\n",
       "      <td>9</td>\n",
       "      <td>61</td>\n",
       "      <td>NaN</td>\n",
       "      <td>NaN</td>\n",
       "      <td>NaN</td>\n",
       "      <td>...</td>\n",
       "      <td>NaN</td>\n",
       "      <td>NaN</td>\n",
       "      <td>NaN</td>\n",
       "      <td>NaN</td>\n",
       "      <td>NaN</td>\n",
       "      <td>NaN</td>\n",
       "      <td>NaN</td>\n",
       "      <td>NaN</td>\n",
       "      <td>NaN</td>\n",
       "      <td>NaN</td>\n",
       "    </tr>\n",
       "    <tr>\n",
       "      <th>15</th>\n",
       "      <td>2022-11-24</td>\n",
       "      <td>Brazil</td>\n",
       "      <td>Serbia</td>\n",
       "      <td>NaN</td>\n",
       "      <td>NaN</td>\n",
       "      <td>1</td>\n",
       "      <td>21</td>\n",
       "      <td>NaN</td>\n",
       "      <td>NaN</td>\n",
       "      <td>NaN</td>\n",
       "      <td>...</td>\n",
       "      <td>NaN</td>\n",
       "      <td>NaN</td>\n",
       "      <td>NaN</td>\n",
       "      <td>NaN</td>\n",
       "      <td>NaN</td>\n",
       "      <td>NaN</td>\n",
       "      <td>NaN</td>\n",
       "      <td>NaN</td>\n",
       "      <td>NaN</td>\n",
       "      <td>NaN</td>\n",
       "    </tr>\n",
       "    <tr>\n",
       "      <th>16</th>\n",
       "      <td>2022-11-25</td>\n",
       "      <td>Wales</td>\n",
       "      <td>Iran</td>\n",
       "      <td>NaN</td>\n",
       "      <td>NaN</td>\n",
       "      <td>19</td>\n",
       "      <td>20</td>\n",
       "      <td>NaN</td>\n",
       "      <td>NaN</td>\n",
       "      <td>NaN</td>\n",
       "      <td>...</td>\n",
       "      <td>NaN</td>\n",
       "      <td>NaN</td>\n",
       "      <td>NaN</td>\n",
       "      <td>NaN</td>\n",
       "      <td>NaN</td>\n",
       "      <td>NaN</td>\n",
       "      <td>NaN</td>\n",
       "      <td>NaN</td>\n",
       "      <td>NaN</td>\n",
       "      <td>NaN</td>\n",
       "    </tr>\n",
       "    <tr>\n",
       "      <th>17</th>\n",
       "      <td>2022-11-25</td>\n",
       "      <td>Qatar</td>\n",
       "      <td>Senegal</td>\n",
       "      <td>NaN</td>\n",
       "      <td>NaN</td>\n",
       "      <td>50</td>\n",
       "      <td>18</td>\n",
       "      <td>NaN</td>\n",
       "      <td>NaN</td>\n",
       "      <td>NaN</td>\n",
       "      <td>...</td>\n",
       "      <td>NaN</td>\n",
       "      <td>NaN</td>\n",
       "      <td>NaN</td>\n",
       "      <td>NaN</td>\n",
       "      <td>NaN</td>\n",
       "      <td>NaN</td>\n",
       "      <td>NaN</td>\n",
       "      <td>NaN</td>\n",
       "      <td>NaN</td>\n",
       "      <td>NaN</td>\n",
       "    </tr>\n",
       "    <tr>\n",
       "      <th>18</th>\n",
       "      <td>2022-11-25</td>\n",
       "      <td>Netherlands</td>\n",
       "      <td>Ecuador</td>\n",
       "      <td>NaN</td>\n",
       "      <td>NaN</td>\n",
       "      <td>8</td>\n",
       "      <td>44</td>\n",
       "      <td>NaN</td>\n",
       "      <td>NaN</td>\n",
       "      <td>NaN</td>\n",
       "      <td>...</td>\n",
       "      <td>NaN</td>\n",
       "      <td>NaN</td>\n",
       "      <td>NaN</td>\n",
       "      <td>NaN</td>\n",
       "      <td>NaN</td>\n",
       "      <td>NaN</td>\n",
       "      <td>NaN</td>\n",
       "      <td>NaN</td>\n",
       "      <td>NaN</td>\n",
       "      <td>NaN</td>\n",
       "    </tr>\n",
       "    <tr>\n",
       "      <th>19</th>\n",
       "      <td>2022-11-25</td>\n",
       "      <td>England</td>\n",
       "      <td>USA</td>\n",
       "      <td>NaN</td>\n",
       "      <td>NaN</td>\n",
       "      <td>5</td>\n",
       "      <td>16</td>\n",
       "      <td>NaN</td>\n",
       "      <td>NaN</td>\n",
       "      <td>NaN</td>\n",
       "      <td>...</td>\n",
       "      <td>NaN</td>\n",
       "      <td>NaN</td>\n",
       "      <td>NaN</td>\n",
       "      <td>NaN</td>\n",
       "      <td>NaN</td>\n",
       "      <td>NaN</td>\n",
       "      <td>NaN</td>\n",
       "      <td>NaN</td>\n",
       "      <td>NaN</td>\n",
       "      <td>NaN</td>\n",
       "    </tr>\n",
       "    <tr>\n",
       "      <th>20</th>\n",
       "      <td>2022-11-26</td>\n",
       "      <td>Tunisia</td>\n",
       "      <td>Australia</td>\n",
       "      <td>NaN</td>\n",
       "      <td>NaN</td>\n",
       "      <td>30</td>\n",
       "      <td>38</td>\n",
       "      <td>NaN</td>\n",
       "      <td>NaN</td>\n",
       "      <td>NaN</td>\n",
       "      <td>...</td>\n",
       "      <td>NaN</td>\n",
       "      <td>NaN</td>\n",
       "      <td>NaN</td>\n",
       "      <td>NaN</td>\n",
       "      <td>NaN</td>\n",
       "      <td>NaN</td>\n",
       "      <td>NaN</td>\n",
       "      <td>NaN</td>\n",
       "      <td>NaN</td>\n",
       "      <td>NaN</td>\n",
       "    </tr>\n",
       "    <tr>\n",
       "      <th>21</th>\n",
       "      <td>2022-11-26</td>\n",
       "      <td>Poland</td>\n",
       "      <td>Saudi Arabia</td>\n",
       "      <td>NaN</td>\n",
       "      <td>NaN</td>\n",
       "      <td>26</td>\n",
       "      <td>51</td>\n",
       "      <td>NaN</td>\n",
       "      <td>NaN</td>\n",
       "      <td>NaN</td>\n",
       "      <td>...</td>\n",
       "      <td>NaN</td>\n",
       "      <td>NaN</td>\n",
       "      <td>NaN</td>\n",
       "      <td>NaN</td>\n",
       "      <td>NaN</td>\n",
       "      <td>NaN</td>\n",
       "      <td>NaN</td>\n",
       "      <td>NaN</td>\n",
       "      <td>NaN</td>\n",
       "      <td>NaN</td>\n",
       "    </tr>\n",
       "    <tr>\n",
       "      <th>22</th>\n",
       "      <td>2022-11-26</td>\n",
       "      <td>France</td>\n",
       "      <td>Denmark</td>\n",
       "      <td>NaN</td>\n",
       "      <td>NaN</td>\n",
       "      <td>4</td>\n",
       "      <td>10</td>\n",
       "      <td>NaN</td>\n",
       "      <td>NaN</td>\n",
       "      <td>NaN</td>\n",
       "      <td>...</td>\n",
       "      <td>NaN</td>\n",
       "      <td>NaN</td>\n",
       "      <td>NaN</td>\n",
       "      <td>NaN</td>\n",
       "      <td>NaN</td>\n",
       "      <td>NaN</td>\n",
       "      <td>NaN</td>\n",
       "      <td>NaN</td>\n",
       "      <td>NaN</td>\n",
       "      <td>NaN</td>\n",
       "    </tr>\n",
       "    <tr>\n",
       "      <th>23</th>\n",
       "      <td>2022-11-26</td>\n",
       "      <td>Argentina</td>\n",
       "      <td>Mexico</td>\n",
       "      <td>NaN</td>\n",
       "      <td>NaN</td>\n",
       "      <td>3</td>\n",
       "      <td>13</td>\n",
       "      <td>NaN</td>\n",
       "      <td>NaN</td>\n",
       "      <td>NaN</td>\n",
       "      <td>...</td>\n",
       "      <td>NaN</td>\n",
       "      <td>NaN</td>\n",
       "      <td>NaN</td>\n",
       "      <td>NaN</td>\n",
       "      <td>NaN</td>\n",
       "      <td>NaN</td>\n",
       "      <td>NaN</td>\n",
       "      <td>NaN</td>\n",
       "      <td>NaN</td>\n",
       "      <td>NaN</td>\n",
       "    </tr>\n",
       "    <tr>\n",
       "      <th>24</th>\n",
       "      <td>2022-11-27</td>\n",
       "      <td>Japan</td>\n",
       "      <td>Costa Rica</td>\n",
       "      <td>NaN</td>\n",
       "      <td>NaN</td>\n",
       "      <td>24</td>\n",
       "      <td>31</td>\n",
       "      <td>NaN</td>\n",
       "      <td>NaN</td>\n",
       "      <td>NaN</td>\n",
       "      <td>...</td>\n",
       "      <td>NaN</td>\n",
       "      <td>NaN</td>\n",
       "      <td>NaN</td>\n",
       "      <td>NaN</td>\n",
       "      <td>NaN</td>\n",
       "      <td>NaN</td>\n",
       "      <td>NaN</td>\n",
       "      <td>NaN</td>\n",
       "      <td>NaN</td>\n",
       "      <td>NaN</td>\n",
       "    </tr>\n",
       "    <tr>\n",
       "      <th>25</th>\n",
       "      <td>2022-11-27</td>\n",
       "      <td>Belgium</td>\n",
       "      <td>Morocco</td>\n",
       "      <td>NaN</td>\n",
       "      <td>NaN</td>\n",
       "      <td>2</td>\n",
       "      <td>22</td>\n",
       "      <td>NaN</td>\n",
       "      <td>NaN</td>\n",
       "      <td>NaN</td>\n",
       "      <td>...</td>\n",
       "      <td>NaN</td>\n",
       "      <td>NaN</td>\n",
       "      <td>NaN</td>\n",
       "      <td>NaN</td>\n",
       "      <td>NaN</td>\n",
       "      <td>NaN</td>\n",
       "      <td>NaN</td>\n",
       "      <td>NaN</td>\n",
       "      <td>NaN</td>\n",
       "      <td>NaN</td>\n",
       "    </tr>\n",
       "    <tr>\n",
       "      <th>26</th>\n",
       "      <td>2022-11-27</td>\n",
       "      <td>Croatia</td>\n",
       "      <td>Canada</td>\n",
       "      <td>NaN</td>\n",
       "      <td>NaN</td>\n",
       "      <td>12</td>\n",
       "      <td>41</td>\n",
       "      <td>NaN</td>\n",
       "      <td>NaN</td>\n",
       "      <td>NaN</td>\n",
       "      <td>...</td>\n",
       "      <td>NaN</td>\n",
       "      <td>NaN</td>\n",
       "      <td>NaN</td>\n",
       "      <td>NaN</td>\n",
       "      <td>NaN</td>\n",
       "      <td>NaN</td>\n",
       "      <td>NaN</td>\n",
       "      <td>NaN</td>\n",
       "      <td>NaN</td>\n",
       "      <td>NaN</td>\n",
       "    </tr>\n",
       "    <tr>\n",
       "      <th>27</th>\n",
       "      <td>2022-11-27</td>\n",
       "      <td>Spain</td>\n",
       "      <td>Germany</td>\n",
       "      <td>NaN</td>\n",
       "      <td>NaN</td>\n",
       "      <td>7</td>\n",
       "      <td>11</td>\n",
       "      <td>NaN</td>\n",
       "      <td>NaN</td>\n",
       "      <td>NaN</td>\n",
       "      <td>...</td>\n",
       "      <td>NaN</td>\n",
       "      <td>NaN</td>\n",
       "      <td>NaN</td>\n",
       "      <td>NaN</td>\n",
       "      <td>NaN</td>\n",
       "      <td>NaN</td>\n",
       "      <td>NaN</td>\n",
       "      <td>NaN</td>\n",
       "      <td>NaN</td>\n",
       "      <td>NaN</td>\n",
       "    </tr>\n",
       "    <tr>\n",
       "      <th>28</th>\n",
       "      <td>2022-11-28</td>\n",
       "      <td>Cameroon</td>\n",
       "      <td>Serbia</td>\n",
       "      <td>NaN</td>\n",
       "      <td>NaN</td>\n",
       "      <td>43</td>\n",
       "      <td>21</td>\n",
       "      <td>NaN</td>\n",
       "      <td>NaN</td>\n",
       "      <td>NaN</td>\n",
       "      <td>...</td>\n",
       "      <td>NaN</td>\n",
       "      <td>NaN</td>\n",
       "      <td>NaN</td>\n",
       "      <td>NaN</td>\n",
       "      <td>NaN</td>\n",
       "      <td>NaN</td>\n",
       "      <td>NaN</td>\n",
       "      <td>NaN</td>\n",
       "      <td>NaN</td>\n",
       "      <td>NaN</td>\n",
       "    </tr>\n",
       "    <tr>\n",
       "      <th>29</th>\n",
       "      <td>2022-11-28</td>\n",
       "      <td>Korea Republic</td>\n",
       "      <td>Ghana</td>\n",
       "      <td>NaN</td>\n",
       "      <td>NaN</td>\n",
       "      <td>28</td>\n",
       "      <td>61</td>\n",
       "      <td>NaN</td>\n",
       "      <td>NaN</td>\n",
       "      <td>NaN</td>\n",
       "      <td>...</td>\n",
       "      <td>NaN</td>\n",
       "      <td>NaN</td>\n",
       "      <td>NaN</td>\n",
       "      <td>NaN</td>\n",
       "      <td>NaN</td>\n",
       "      <td>NaN</td>\n",
       "      <td>NaN</td>\n",
       "      <td>NaN</td>\n",
       "      <td>NaN</td>\n",
       "      <td>NaN</td>\n",
       "    </tr>\n",
       "    <tr>\n",
       "      <th>30</th>\n",
       "      <td>2022-11-28</td>\n",
       "      <td>Brazil</td>\n",
       "      <td>Switzerland</td>\n",
       "      <td>NaN</td>\n",
       "      <td>NaN</td>\n",
       "      <td>1</td>\n",
       "      <td>15</td>\n",
       "      <td>NaN</td>\n",
       "      <td>NaN</td>\n",
       "      <td>NaN</td>\n",
       "      <td>...</td>\n",
       "      <td>NaN</td>\n",
       "      <td>NaN</td>\n",
       "      <td>NaN</td>\n",
       "      <td>NaN</td>\n",
       "      <td>NaN</td>\n",
       "      <td>NaN</td>\n",
       "      <td>NaN</td>\n",
       "      <td>NaN</td>\n",
       "      <td>NaN</td>\n",
       "      <td>NaN</td>\n",
       "    </tr>\n",
       "    <tr>\n",
       "      <th>31</th>\n",
       "      <td>2022-11-28</td>\n",
       "      <td>Portugal</td>\n",
       "      <td>Uruguay</td>\n",
       "      <td>NaN</td>\n",
       "      <td>NaN</td>\n",
       "      <td>9</td>\n",
       "      <td>14</td>\n",
       "      <td>NaN</td>\n",
       "      <td>NaN</td>\n",
       "      <td>NaN</td>\n",
       "      <td>...</td>\n",
       "      <td>NaN</td>\n",
       "      <td>NaN</td>\n",
       "      <td>NaN</td>\n",
       "      <td>NaN</td>\n",
       "      <td>NaN</td>\n",
       "      <td>NaN</td>\n",
       "      <td>NaN</td>\n",
       "      <td>NaN</td>\n",
       "      <td>NaN</td>\n",
       "      <td>NaN</td>\n",
       "    </tr>\n",
       "    <tr>\n",
       "      <th>32</th>\n",
       "      <td>2022-11-29</td>\n",
       "      <td>Ecuador</td>\n",
       "      <td>Senegal</td>\n",
       "      <td>NaN</td>\n",
       "      <td>NaN</td>\n",
       "      <td>44</td>\n",
       "      <td>18</td>\n",
       "      <td>NaN</td>\n",
       "      <td>NaN</td>\n",
       "      <td>NaN</td>\n",
       "      <td>...</td>\n",
       "      <td>NaN</td>\n",
       "      <td>NaN</td>\n",
       "      <td>NaN</td>\n",
       "      <td>NaN</td>\n",
       "      <td>NaN</td>\n",
       "      <td>NaN</td>\n",
       "      <td>NaN</td>\n",
       "      <td>NaN</td>\n",
       "      <td>NaN</td>\n",
       "      <td>NaN</td>\n",
       "    </tr>\n",
       "    <tr>\n",
       "      <th>33</th>\n",
       "      <td>2022-11-29</td>\n",
       "      <td>Netherlands</td>\n",
       "      <td>Qatar</td>\n",
       "      <td>NaN</td>\n",
       "      <td>NaN</td>\n",
       "      <td>8</td>\n",
       "      <td>50</td>\n",
       "      <td>NaN</td>\n",
       "      <td>NaN</td>\n",
       "      <td>NaN</td>\n",
       "      <td>...</td>\n",
       "      <td>NaN</td>\n",
       "      <td>NaN</td>\n",
       "      <td>NaN</td>\n",
       "      <td>NaN</td>\n",
       "      <td>NaN</td>\n",
       "      <td>NaN</td>\n",
       "      <td>NaN</td>\n",
       "      <td>NaN</td>\n",
       "      <td>NaN</td>\n",
       "      <td>NaN</td>\n",
       "    </tr>\n",
       "    <tr>\n",
       "      <th>34</th>\n",
       "      <td>2022-11-29</td>\n",
       "      <td>Wales</td>\n",
       "      <td>England</td>\n",
       "      <td>NaN</td>\n",
       "      <td>NaN</td>\n",
       "      <td>19</td>\n",
       "      <td>5</td>\n",
       "      <td>NaN</td>\n",
       "      <td>NaN</td>\n",
       "      <td>NaN</td>\n",
       "      <td>...</td>\n",
       "      <td>NaN</td>\n",
       "      <td>NaN</td>\n",
       "      <td>NaN</td>\n",
       "      <td>NaN</td>\n",
       "      <td>NaN</td>\n",
       "      <td>NaN</td>\n",
       "      <td>NaN</td>\n",
       "      <td>NaN</td>\n",
       "      <td>NaN</td>\n",
       "      <td>NaN</td>\n",
       "    </tr>\n",
       "    <tr>\n",
       "      <th>35</th>\n",
       "      <td>2022-11-29</td>\n",
       "      <td>Iran</td>\n",
       "      <td>USA</td>\n",
       "      <td>NaN</td>\n",
       "      <td>NaN</td>\n",
       "      <td>20</td>\n",
       "      <td>16</td>\n",
       "      <td>NaN</td>\n",
       "      <td>NaN</td>\n",
       "      <td>NaN</td>\n",
       "      <td>...</td>\n",
       "      <td>NaN</td>\n",
       "      <td>NaN</td>\n",
       "      <td>NaN</td>\n",
       "      <td>NaN</td>\n",
       "      <td>NaN</td>\n",
       "      <td>NaN</td>\n",
       "      <td>NaN</td>\n",
       "      <td>NaN</td>\n",
       "      <td>NaN</td>\n",
       "      <td>NaN</td>\n",
       "    </tr>\n",
       "    <tr>\n",
       "      <th>36</th>\n",
       "      <td>2022-11-30</td>\n",
       "      <td>Australia</td>\n",
       "      <td>Denmark</td>\n",
       "      <td>NaN</td>\n",
       "      <td>NaN</td>\n",
       "      <td>38</td>\n",
       "      <td>10</td>\n",
       "      <td>NaN</td>\n",
       "      <td>NaN</td>\n",
       "      <td>NaN</td>\n",
       "      <td>...</td>\n",
       "      <td>NaN</td>\n",
       "      <td>NaN</td>\n",
       "      <td>NaN</td>\n",
       "      <td>NaN</td>\n",
       "      <td>NaN</td>\n",
       "      <td>NaN</td>\n",
       "      <td>NaN</td>\n",
       "      <td>NaN</td>\n",
       "      <td>NaN</td>\n",
       "      <td>NaN</td>\n",
       "    </tr>\n",
       "    <tr>\n",
       "      <th>37</th>\n",
       "      <td>2022-11-30</td>\n",
       "      <td>Tunisia</td>\n",
       "      <td>France</td>\n",
       "      <td>NaN</td>\n",
       "      <td>NaN</td>\n",
       "      <td>30</td>\n",
       "      <td>4</td>\n",
       "      <td>NaN</td>\n",
       "      <td>NaN</td>\n",
       "      <td>NaN</td>\n",
       "      <td>...</td>\n",
       "      <td>NaN</td>\n",
       "      <td>NaN</td>\n",
       "      <td>NaN</td>\n",
       "      <td>NaN</td>\n",
       "      <td>NaN</td>\n",
       "      <td>NaN</td>\n",
       "      <td>NaN</td>\n",
       "      <td>NaN</td>\n",
       "      <td>NaN</td>\n",
       "      <td>NaN</td>\n",
       "    </tr>\n",
       "    <tr>\n",
       "      <th>38</th>\n",
       "      <td>2022-11-30</td>\n",
       "      <td>Poland</td>\n",
       "      <td>Argentina</td>\n",
       "      <td>NaN</td>\n",
       "      <td>NaN</td>\n",
       "      <td>26</td>\n",
       "      <td>3</td>\n",
       "      <td>NaN</td>\n",
       "      <td>NaN</td>\n",
       "      <td>NaN</td>\n",
       "      <td>...</td>\n",
       "      <td>NaN</td>\n",
       "      <td>NaN</td>\n",
       "      <td>NaN</td>\n",
       "      <td>NaN</td>\n",
       "      <td>NaN</td>\n",
       "      <td>NaN</td>\n",
       "      <td>NaN</td>\n",
       "      <td>NaN</td>\n",
       "      <td>NaN</td>\n",
       "      <td>NaN</td>\n",
       "    </tr>\n",
       "    <tr>\n",
       "      <th>39</th>\n",
       "      <td>2022-11-30</td>\n",
       "      <td>Saudi Arabia</td>\n",
       "      <td>Mexico</td>\n",
       "      <td>NaN</td>\n",
       "      <td>NaN</td>\n",
       "      <td>51</td>\n",
       "      <td>13</td>\n",
       "      <td>NaN</td>\n",
       "      <td>NaN</td>\n",
       "      <td>NaN</td>\n",
       "      <td>...</td>\n",
       "      <td>NaN</td>\n",
       "      <td>NaN</td>\n",
       "      <td>NaN</td>\n",
       "      <td>NaN</td>\n",
       "      <td>NaN</td>\n",
       "      <td>NaN</td>\n",
       "      <td>NaN</td>\n",
       "      <td>NaN</td>\n",
       "      <td>NaN</td>\n",
       "      <td>NaN</td>\n",
       "    </tr>\n",
       "    <tr>\n",
       "      <th>40</th>\n",
       "      <td>2022-12-01</td>\n",
       "      <td>Croatia</td>\n",
       "      <td>Belgium</td>\n",
       "      <td>NaN</td>\n",
       "      <td>NaN</td>\n",
       "      <td>12</td>\n",
       "      <td>2</td>\n",
       "      <td>NaN</td>\n",
       "      <td>NaN</td>\n",
       "      <td>NaN</td>\n",
       "      <td>...</td>\n",
       "      <td>NaN</td>\n",
       "      <td>NaN</td>\n",
       "      <td>NaN</td>\n",
       "      <td>NaN</td>\n",
       "      <td>NaN</td>\n",
       "      <td>NaN</td>\n",
       "      <td>NaN</td>\n",
       "      <td>NaN</td>\n",
       "      <td>NaN</td>\n",
       "      <td>NaN</td>\n",
       "    </tr>\n",
       "    <tr>\n",
       "      <th>41</th>\n",
       "      <td>2022-12-01</td>\n",
       "      <td>Canada</td>\n",
       "      <td>Morocco</td>\n",
       "      <td>NaN</td>\n",
       "      <td>NaN</td>\n",
       "      <td>41</td>\n",
       "      <td>22</td>\n",
       "      <td>NaN</td>\n",
       "      <td>NaN</td>\n",
       "      <td>NaN</td>\n",
       "      <td>...</td>\n",
       "      <td>NaN</td>\n",
       "      <td>NaN</td>\n",
       "      <td>NaN</td>\n",
       "      <td>NaN</td>\n",
       "      <td>NaN</td>\n",
       "      <td>NaN</td>\n",
       "      <td>NaN</td>\n",
       "      <td>NaN</td>\n",
       "      <td>NaN</td>\n",
       "      <td>NaN</td>\n",
       "    </tr>\n",
       "    <tr>\n",
       "      <th>42</th>\n",
       "      <td>2022-12-01</td>\n",
       "      <td>Japan</td>\n",
       "      <td>Spain</td>\n",
       "      <td>NaN</td>\n",
       "      <td>NaN</td>\n",
       "      <td>24</td>\n",
       "      <td>7</td>\n",
       "      <td>NaN</td>\n",
       "      <td>NaN</td>\n",
       "      <td>NaN</td>\n",
       "      <td>...</td>\n",
       "      <td>NaN</td>\n",
       "      <td>NaN</td>\n",
       "      <td>NaN</td>\n",
       "      <td>NaN</td>\n",
       "      <td>NaN</td>\n",
       "      <td>NaN</td>\n",
       "      <td>NaN</td>\n",
       "      <td>NaN</td>\n",
       "      <td>NaN</td>\n",
       "      <td>NaN</td>\n",
       "    </tr>\n",
       "    <tr>\n",
       "      <th>43</th>\n",
       "      <td>2022-12-01</td>\n",
       "      <td>Costa Rica</td>\n",
       "      <td>Germany</td>\n",
       "      <td>NaN</td>\n",
       "      <td>NaN</td>\n",
       "      <td>31</td>\n",
       "      <td>11</td>\n",
       "      <td>NaN</td>\n",
       "      <td>NaN</td>\n",
       "      <td>NaN</td>\n",
       "      <td>...</td>\n",
       "      <td>NaN</td>\n",
       "      <td>NaN</td>\n",
       "      <td>NaN</td>\n",
       "      <td>NaN</td>\n",
       "      <td>NaN</td>\n",
       "      <td>NaN</td>\n",
       "      <td>NaN</td>\n",
       "      <td>NaN</td>\n",
       "      <td>NaN</td>\n",
       "      <td>NaN</td>\n",
       "    </tr>\n",
       "    <tr>\n",
       "      <th>44</th>\n",
       "      <td>2022-12-02</td>\n",
       "      <td>Ghana</td>\n",
       "      <td>Uruguay</td>\n",
       "      <td>NaN</td>\n",
       "      <td>NaN</td>\n",
       "      <td>61</td>\n",
       "      <td>14</td>\n",
       "      <td>NaN</td>\n",
       "      <td>NaN</td>\n",
       "      <td>NaN</td>\n",
       "      <td>...</td>\n",
       "      <td>NaN</td>\n",
       "      <td>NaN</td>\n",
       "      <td>NaN</td>\n",
       "      <td>NaN</td>\n",
       "      <td>NaN</td>\n",
       "      <td>NaN</td>\n",
       "      <td>NaN</td>\n",
       "      <td>NaN</td>\n",
       "      <td>NaN</td>\n",
       "      <td>NaN</td>\n",
       "    </tr>\n",
       "    <tr>\n",
       "      <th>45</th>\n",
       "      <td>2022-12-02</td>\n",
       "      <td>Korea Republic</td>\n",
       "      <td>Portugal</td>\n",
       "      <td>NaN</td>\n",
       "      <td>NaN</td>\n",
       "      <td>28</td>\n",
       "      <td>9</td>\n",
       "      <td>NaN</td>\n",
       "      <td>NaN</td>\n",
       "      <td>NaN</td>\n",
       "      <td>...</td>\n",
       "      <td>NaN</td>\n",
       "      <td>NaN</td>\n",
       "      <td>NaN</td>\n",
       "      <td>NaN</td>\n",
       "      <td>NaN</td>\n",
       "      <td>NaN</td>\n",
       "      <td>NaN</td>\n",
       "      <td>NaN</td>\n",
       "      <td>NaN</td>\n",
       "      <td>NaN</td>\n",
       "    </tr>\n",
       "    <tr>\n",
       "      <th>46</th>\n",
       "      <td>2022-12-02</td>\n",
       "      <td>Serbia</td>\n",
       "      <td>Switzerland</td>\n",
       "      <td>NaN</td>\n",
       "      <td>NaN</td>\n",
       "      <td>21</td>\n",
       "      <td>15</td>\n",
       "      <td>NaN</td>\n",
       "      <td>NaN</td>\n",
       "      <td>NaN</td>\n",
       "      <td>...</td>\n",
       "      <td>NaN</td>\n",
       "      <td>NaN</td>\n",
       "      <td>NaN</td>\n",
       "      <td>NaN</td>\n",
       "      <td>NaN</td>\n",
       "      <td>NaN</td>\n",
       "      <td>NaN</td>\n",
       "      <td>NaN</td>\n",
       "      <td>NaN</td>\n",
       "      <td>NaN</td>\n",
       "    </tr>\n",
       "    <tr>\n",
       "      <th>47</th>\n",
       "      <td>2022-12-02</td>\n",
       "      <td>Cameroon</td>\n",
       "      <td>Brazil</td>\n",
       "      <td>NaN</td>\n",
       "      <td>NaN</td>\n",
       "      <td>43</td>\n",
       "      <td>1</td>\n",
       "      <td>NaN</td>\n",
       "      <td>NaN</td>\n",
       "      <td>NaN</td>\n",
       "      <td>...</td>\n",
       "      <td>NaN</td>\n",
       "      <td>NaN</td>\n",
       "      <td>NaN</td>\n",
       "      <td>NaN</td>\n",
       "      <td>NaN</td>\n",
       "      <td>NaN</td>\n",
       "      <td>NaN</td>\n",
       "      <td>NaN</td>\n",
       "      <td>NaN</td>\n",
       "      <td>NaN</td>\n",
       "    </tr>\n",
       "  </tbody>\n",
       "</table>\n",
       "<p>48 rows × 25 columns</p>\n",
       "</div>\n",
       "      <button class=\"colab-df-convert\" onclick=\"convertToInteractive('df-2b22162f-8bf1-4f00-83c8-309c0af20d20')\"\n",
       "              title=\"Convert this dataframe to an interactive table.\"\n",
       "              style=\"display:none;\">\n",
       "        \n",
       "  <svg xmlns=\"http://www.w3.org/2000/svg\" height=\"24px\"viewBox=\"0 0 24 24\"\n",
       "       width=\"24px\">\n",
       "    <path d=\"M0 0h24v24H0V0z\" fill=\"none\"/>\n",
       "    <path d=\"M18.56 5.44l.94 2.06.94-2.06 2.06-.94-2.06-.94-.94-2.06-.94 2.06-2.06.94zm-11 1L8.5 8.5l.94-2.06 2.06-.94-2.06-.94L8.5 2.5l-.94 2.06-2.06.94zm10 10l.94 2.06.94-2.06 2.06-.94-2.06-.94-.94-2.06-.94 2.06-2.06.94z\"/><path d=\"M17.41 7.96l-1.37-1.37c-.4-.4-.92-.59-1.43-.59-.52 0-1.04.2-1.43.59L10.3 9.45l-7.72 7.72c-.78.78-.78 2.05 0 2.83L4 21.41c.39.39.9.59 1.41.59.51 0 1.02-.2 1.41-.59l7.78-7.78 2.81-2.81c.8-.78.8-2.07 0-2.86zM5.41 20L4 18.59l7.72-7.72 1.47 1.35L5.41 20z\"/>\n",
       "  </svg>\n",
       "      </button>\n",
       "      \n",
       "  <style>\n",
       "    .colab-df-container {\n",
       "      display:flex;\n",
       "      flex-wrap:wrap;\n",
       "      gap: 12px;\n",
       "    }\n",
       "\n",
       "    .colab-df-convert {\n",
       "      background-color: #E8F0FE;\n",
       "      border: none;\n",
       "      border-radius: 50%;\n",
       "      cursor: pointer;\n",
       "      display: none;\n",
       "      fill: #1967D2;\n",
       "      height: 32px;\n",
       "      padding: 0 0 0 0;\n",
       "      width: 32px;\n",
       "    }\n",
       "\n",
       "    .colab-df-convert:hover {\n",
       "      background-color: #E2EBFA;\n",
       "      box-shadow: 0px 1px 2px rgba(60, 64, 67, 0.3), 0px 1px 3px 1px rgba(60, 64, 67, 0.15);\n",
       "      fill: #174EA6;\n",
       "    }\n",
       "\n",
       "    [theme=dark] .colab-df-convert {\n",
       "      background-color: #3B4455;\n",
       "      fill: #D2E3FC;\n",
       "    }\n",
       "\n",
       "    [theme=dark] .colab-df-convert:hover {\n",
       "      background-color: #434B5C;\n",
       "      box-shadow: 0px 1px 3px 1px rgba(0, 0, 0, 0.15);\n",
       "      filter: drop-shadow(0px 1px 2px rgba(0, 0, 0, 0.3));\n",
       "      fill: #FFFFFF;\n",
       "    }\n",
       "  </style>\n",
       "\n",
       "      <script>\n",
       "        const buttonEl =\n",
       "          document.querySelector('#df-2b22162f-8bf1-4f00-83c8-309c0af20d20 button.colab-df-convert');\n",
       "        buttonEl.style.display =\n",
       "          google.colab.kernel.accessAllowed ? 'block' : 'none';\n",
       "\n",
       "        async function convertToInteractive(key) {\n",
       "          const element = document.querySelector('#df-2b22162f-8bf1-4f00-83c8-309c0af20d20');\n",
       "          const dataTable =\n",
       "            await google.colab.kernel.invokeFunction('convertToInteractive',\n",
       "                                                     [key], {});\n",
       "          if (!dataTable) return;\n",
       "\n",
       "          const docLinkHtml = 'Like what you see? Visit the ' +\n",
       "            '<a target=\"_blank\" href=https://colab.research.google.com/notebooks/data_table.ipynb>data table notebook</a>'\n",
       "            + ' to learn more about interactive tables.';\n",
       "          element.innerHTML = '';\n",
       "          dataTable['output_type'] = 'display_data';\n",
       "          await google.colab.output.renderOutput(dataTable, element);\n",
       "          const docLink = document.createElement('div');\n",
       "          docLink.innerHTML = docLinkHtml;\n",
       "          element.appendChild(docLink);\n",
       "        }\n",
       "      </script>\n",
       "    </div>\n",
       "  </div>\n",
       "  "
      ],
      "text/plain": [
       "          date       home_team       away_team  home_team_continent  \\\n",
       "0   2022-11-20           Qatar         Ecuador                  NaN   \n",
       "1   2022-11-21         England            Iran                  NaN   \n",
       "2   2022-11-21         Senegal     Netherlands                  NaN   \n",
       "3   2022-11-21             USA           Wales                  NaN   \n",
       "4   2022-11-22       Argentina    Saudi Arabia                  NaN   \n",
       "5   2022-11-22         Denmark         Tunisia                  NaN   \n",
       "6   2022-11-22          Mexico          Poland                  NaN   \n",
       "7   2022-11-22          France       Australia                  NaN   \n",
       "8   2022-11-23         Morocco         Croatia                  NaN   \n",
       "9   2022-11-23         Germany           Japan                  NaN   \n",
       "10  2022-11-23           Spain      Costa Rica                  NaN   \n",
       "11  2022-11-23         Belgium          Canada                  NaN   \n",
       "12  2022-11-24     Switzerland        Cameroon                  NaN   \n",
       "13  2022-11-24         Uruguay  Korea Republic                  NaN   \n",
       "14  2022-11-24        Portugal           Ghana                  NaN   \n",
       "15  2022-11-24          Brazil          Serbia                  NaN   \n",
       "16  2022-11-25           Wales            Iran                  NaN   \n",
       "17  2022-11-25           Qatar         Senegal                  NaN   \n",
       "18  2022-11-25     Netherlands         Ecuador                  NaN   \n",
       "19  2022-11-25         England             USA                  NaN   \n",
       "20  2022-11-26         Tunisia       Australia                  NaN   \n",
       "21  2022-11-26          Poland    Saudi Arabia                  NaN   \n",
       "22  2022-11-26          France         Denmark                  NaN   \n",
       "23  2022-11-26       Argentina          Mexico                  NaN   \n",
       "24  2022-11-27           Japan      Costa Rica                  NaN   \n",
       "25  2022-11-27         Belgium         Morocco                  NaN   \n",
       "26  2022-11-27         Croatia          Canada                  NaN   \n",
       "27  2022-11-27           Spain         Germany                  NaN   \n",
       "28  2022-11-28        Cameroon          Serbia                  NaN   \n",
       "29  2022-11-28  Korea Republic           Ghana                  NaN   \n",
       "30  2022-11-28          Brazil     Switzerland                  NaN   \n",
       "31  2022-11-28        Portugal         Uruguay                  NaN   \n",
       "32  2022-11-29         Ecuador         Senegal                  NaN   \n",
       "33  2022-11-29     Netherlands           Qatar                  NaN   \n",
       "34  2022-11-29           Wales         England                  NaN   \n",
       "35  2022-11-29            Iran             USA                  NaN   \n",
       "36  2022-11-30       Australia         Denmark                  NaN   \n",
       "37  2022-11-30         Tunisia          France                  NaN   \n",
       "38  2022-11-30          Poland       Argentina                  NaN   \n",
       "39  2022-11-30    Saudi Arabia          Mexico                  NaN   \n",
       "40  2022-12-01         Croatia         Belgium                  NaN   \n",
       "41  2022-12-01          Canada         Morocco                  NaN   \n",
       "42  2022-12-01           Japan           Spain                  NaN   \n",
       "43  2022-12-01      Costa Rica         Germany                  NaN   \n",
       "44  2022-12-02           Ghana         Uruguay                  NaN   \n",
       "45  2022-12-02  Korea Republic        Portugal                  NaN   \n",
       "46  2022-12-02          Serbia     Switzerland                  NaN   \n",
       "47  2022-12-02        Cameroon          Brazil                  NaN   \n",
       "\n",
       "    away_team_continent  home_team_fifa_rank  away_team_fifa_rank  \\\n",
       "0                   NaN                   50                   44   \n",
       "1                   NaN                    5                   20   \n",
       "2                   NaN                   18                    8   \n",
       "3                   NaN                   16                   19   \n",
       "4                   NaN                    3                   51   \n",
       "5                   NaN                   10                   30   \n",
       "6                   NaN                   13                   26   \n",
       "7                   NaN                    4                   38   \n",
       "8                   NaN                   22                   12   \n",
       "9                   NaN                   11                   24   \n",
       "10                  NaN                    7                   31   \n",
       "11                  NaN                    2                   41   \n",
       "12                  NaN                   15                   43   \n",
       "13                  NaN                   14                   28   \n",
       "14                  NaN                    9                   61   \n",
       "15                  NaN                    1                   21   \n",
       "16                  NaN                   19                   20   \n",
       "17                  NaN                   50                   18   \n",
       "18                  NaN                    8                   44   \n",
       "19                  NaN                    5                   16   \n",
       "20                  NaN                   30                   38   \n",
       "21                  NaN                   26                   51   \n",
       "22                  NaN                    4                   10   \n",
       "23                  NaN                    3                   13   \n",
       "24                  NaN                   24                   31   \n",
       "25                  NaN                    2                   22   \n",
       "26                  NaN                   12                   41   \n",
       "27                  NaN                    7                   11   \n",
       "28                  NaN                   43                   21   \n",
       "29                  NaN                   28                   61   \n",
       "30                  NaN                    1                   15   \n",
       "31                  NaN                    9                   14   \n",
       "32                  NaN                   44                   18   \n",
       "33                  NaN                    8                   50   \n",
       "34                  NaN                   19                    5   \n",
       "35                  NaN                   20                   16   \n",
       "36                  NaN                   38                   10   \n",
       "37                  NaN                   30                    4   \n",
       "38                  NaN                   26                    3   \n",
       "39                  NaN                   51                   13   \n",
       "40                  NaN                   12                    2   \n",
       "41                  NaN                   41                   22   \n",
       "42                  NaN                   24                    7   \n",
       "43                  NaN                   31                   11   \n",
       "44                  NaN                   61                   14   \n",
       "45                  NaN                   28                    9   \n",
       "46                  NaN                   21                   15   \n",
       "47                  NaN                   43                    1   \n",
       "\n",
       "    home_team_total_fifa_points  away_team_total_fifa_points  home_team_score  \\\n",
       "0                           NaN                          NaN              NaN   \n",
       "1                           NaN                          NaN              NaN   \n",
       "2                           NaN                          NaN              NaN   \n",
       "3                           NaN                          NaN              NaN   \n",
       "4                           NaN                          NaN              NaN   \n",
       "5                           NaN                          NaN              NaN   \n",
       "6                           NaN                          NaN              NaN   \n",
       "7                           NaN                          NaN              NaN   \n",
       "8                           NaN                          NaN              NaN   \n",
       "9                           NaN                          NaN              NaN   \n",
       "10                          NaN                          NaN              NaN   \n",
       "11                          NaN                          NaN              NaN   \n",
       "12                          NaN                          NaN              NaN   \n",
       "13                          NaN                          NaN              NaN   \n",
       "14                          NaN                          NaN              NaN   \n",
       "15                          NaN                          NaN              NaN   \n",
       "16                          NaN                          NaN              NaN   \n",
       "17                          NaN                          NaN              NaN   \n",
       "18                          NaN                          NaN              NaN   \n",
       "19                          NaN                          NaN              NaN   \n",
       "20                          NaN                          NaN              NaN   \n",
       "21                          NaN                          NaN              NaN   \n",
       "22                          NaN                          NaN              NaN   \n",
       "23                          NaN                          NaN              NaN   \n",
       "24                          NaN                          NaN              NaN   \n",
       "25                          NaN                          NaN              NaN   \n",
       "26                          NaN                          NaN              NaN   \n",
       "27                          NaN                          NaN              NaN   \n",
       "28                          NaN                          NaN              NaN   \n",
       "29                          NaN                          NaN              NaN   \n",
       "30                          NaN                          NaN              NaN   \n",
       "31                          NaN                          NaN              NaN   \n",
       "32                          NaN                          NaN              NaN   \n",
       "33                          NaN                          NaN              NaN   \n",
       "34                          NaN                          NaN              NaN   \n",
       "35                          NaN                          NaN              NaN   \n",
       "36                          NaN                          NaN              NaN   \n",
       "37                          NaN                          NaN              NaN   \n",
       "38                          NaN                          NaN              NaN   \n",
       "39                          NaN                          NaN              NaN   \n",
       "40                          NaN                          NaN              NaN   \n",
       "41                          NaN                          NaN              NaN   \n",
       "42                          NaN                          NaN              NaN   \n",
       "43                          NaN                          NaN              NaN   \n",
       "44                          NaN                          NaN              NaN   \n",
       "45                          NaN                          NaN              NaN   \n",
       "46                          NaN                          NaN              NaN   \n",
       "47                          NaN                          NaN              NaN   \n",
       "\n",
       "    ...  shoot_out  home_team_result  home_team_goalkeeper_score  \\\n",
       "0   ...       True               NaN                         NaN   \n",
       "1   ...        NaN               NaN                         NaN   \n",
       "2   ...        NaN               NaN                         NaN   \n",
       "3   ...        NaN               NaN                         NaN   \n",
       "4   ...        NaN               NaN                         NaN   \n",
       "5   ...        NaN               NaN                         NaN   \n",
       "6   ...        NaN               NaN                         NaN   \n",
       "7   ...        NaN               NaN                         NaN   \n",
       "8   ...        NaN               NaN                         NaN   \n",
       "9   ...        NaN               NaN                         NaN   \n",
       "10  ...        NaN               NaN                         NaN   \n",
       "11  ...        NaN               NaN                         NaN   \n",
       "12  ...        NaN               NaN                         NaN   \n",
       "13  ...        NaN               NaN                         NaN   \n",
       "14  ...        NaN               NaN                         NaN   \n",
       "15  ...        NaN               NaN                         NaN   \n",
       "16  ...        NaN               NaN                         NaN   \n",
       "17  ...        NaN               NaN                         NaN   \n",
       "18  ...        NaN               NaN                         NaN   \n",
       "19  ...        NaN               NaN                         NaN   \n",
       "20  ...        NaN               NaN                         NaN   \n",
       "21  ...        NaN               NaN                         NaN   \n",
       "22  ...        NaN               NaN                         NaN   \n",
       "23  ...        NaN               NaN                         NaN   \n",
       "24  ...        NaN               NaN                         NaN   \n",
       "25  ...        NaN               NaN                         NaN   \n",
       "26  ...        NaN               NaN                         NaN   \n",
       "27  ...        NaN               NaN                         NaN   \n",
       "28  ...        NaN               NaN                         NaN   \n",
       "29  ...        NaN               NaN                         NaN   \n",
       "30  ...        NaN               NaN                         NaN   \n",
       "31  ...        NaN               NaN                         NaN   \n",
       "32  ...        NaN               NaN                         NaN   \n",
       "33  ...        NaN               NaN                         NaN   \n",
       "34  ...        NaN               NaN                         NaN   \n",
       "35  ...        NaN               NaN                         NaN   \n",
       "36  ...        NaN               NaN                         NaN   \n",
       "37  ...        NaN               NaN                         NaN   \n",
       "38  ...        NaN               NaN                         NaN   \n",
       "39  ...        NaN               NaN                         NaN   \n",
       "40  ...        NaN               NaN                         NaN   \n",
       "41  ...        NaN               NaN                         NaN   \n",
       "42  ...        NaN               NaN                         NaN   \n",
       "43  ...        NaN               NaN                         NaN   \n",
       "44  ...        NaN               NaN                         NaN   \n",
       "45  ...        NaN               NaN                         NaN   \n",
       "46  ...        NaN               NaN                         NaN   \n",
       "47  ...        NaN               NaN                         NaN   \n",
       "\n",
       "    away_team_goalkeeper_score  home_team_mean_defense_score  \\\n",
       "0                          NaN                           NaN   \n",
       "1                          NaN                           NaN   \n",
       "2                          NaN                           NaN   \n",
       "3                          NaN                           NaN   \n",
       "4                          NaN                           NaN   \n",
       "5                          NaN                           NaN   \n",
       "6                          NaN                           NaN   \n",
       "7                          NaN                           NaN   \n",
       "8                          NaN                           NaN   \n",
       "9                          NaN                           NaN   \n",
       "10                         NaN                           NaN   \n",
       "11                         NaN                           NaN   \n",
       "12                         NaN                           NaN   \n",
       "13                         NaN                           NaN   \n",
       "14                         NaN                           NaN   \n",
       "15                         NaN                           NaN   \n",
       "16                         NaN                           NaN   \n",
       "17                         NaN                           NaN   \n",
       "18                         NaN                           NaN   \n",
       "19                         NaN                           NaN   \n",
       "20                         NaN                           NaN   \n",
       "21                         NaN                           NaN   \n",
       "22                         NaN                           NaN   \n",
       "23                         NaN                           NaN   \n",
       "24                         NaN                           NaN   \n",
       "25                         NaN                           NaN   \n",
       "26                         NaN                           NaN   \n",
       "27                         NaN                           NaN   \n",
       "28                         NaN                           NaN   \n",
       "29                         NaN                           NaN   \n",
       "30                         NaN                           NaN   \n",
       "31                         NaN                           NaN   \n",
       "32                         NaN                           NaN   \n",
       "33                         NaN                           NaN   \n",
       "34                         NaN                           NaN   \n",
       "35                         NaN                           NaN   \n",
       "36                         NaN                           NaN   \n",
       "37                         NaN                           NaN   \n",
       "38                         NaN                           NaN   \n",
       "39                         NaN                           NaN   \n",
       "40                         NaN                           NaN   \n",
       "41                         NaN                           NaN   \n",
       "42                         NaN                           NaN   \n",
       "43                         NaN                           NaN   \n",
       "44                         NaN                           NaN   \n",
       "45                         NaN                           NaN   \n",
       "46                         NaN                           NaN   \n",
       "47                         NaN                           NaN   \n",
       "\n",
       "   home_team_mean_offense_score  home_team_mean_midfield_score  \\\n",
       "0                           NaN                            NaN   \n",
       "1                           NaN                            NaN   \n",
       "2                           NaN                            NaN   \n",
       "3                           NaN                            NaN   \n",
       "4                           NaN                            NaN   \n",
       "5                           NaN                            NaN   \n",
       "6                           NaN                            NaN   \n",
       "7                           NaN                            NaN   \n",
       "8                           NaN                            NaN   \n",
       "9                           NaN                            NaN   \n",
       "10                          NaN                            NaN   \n",
       "11                          NaN                            NaN   \n",
       "12                          NaN                            NaN   \n",
       "13                          NaN                            NaN   \n",
       "14                          NaN                            NaN   \n",
       "15                          NaN                            NaN   \n",
       "16                          NaN                            NaN   \n",
       "17                          NaN                            NaN   \n",
       "18                          NaN                            NaN   \n",
       "19                          NaN                            NaN   \n",
       "20                          NaN                            NaN   \n",
       "21                          NaN                            NaN   \n",
       "22                          NaN                            NaN   \n",
       "23                          NaN                            NaN   \n",
       "24                          NaN                            NaN   \n",
       "25                          NaN                            NaN   \n",
       "26                          NaN                            NaN   \n",
       "27                          NaN                            NaN   \n",
       "28                          NaN                            NaN   \n",
       "29                          NaN                            NaN   \n",
       "30                          NaN                            NaN   \n",
       "31                          NaN                            NaN   \n",
       "32                          NaN                            NaN   \n",
       "33                          NaN                            NaN   \n",
       "34                          NaN                            NaN   \n",
       "35                          NaN                            NaN   \n",
       "36                          NaN                            NaN   \n",
       "37                          NaN                            NaN   \n",
       "38                          NaN                            NaN   \n",
       "39                          NaN                            NaN   \n",
       "40                          NaN                            NaN   \n",
       "41                          NaN                            NaN   \n",
       "42                          NaN                            NaN   \n",
       "43                          NaN                            NaN   \n",
       "44                          NaN                            NaN   \n",
       "45                          NaN                            NaN   \n",
       "46                          NaN                            NaN   \n",
       "47                          NaN                            NaN   \n",
       "\n",
       "    away_team_mean_defense_score  away_team_mean_offense_score  \\\n",
       "0                            NaN                           NaN   \n",
       "1                            NaN                           NaN   \n",
       "2                            NaN                           NaN   \n",
       "3                            NaN                           NaN   \n",
       "4                            NaN                           NaN   \n",
       "5                            NaN                           NaN   \n",
       "6                            NaN                           NaN   \n",
       "7                            NaN                           NaN   \n",
       "8                            NaN                           NaN   \n",
       "9                            NaN                           NaN   \n",
       "10                           NaN                           NaN   \n",
       "11                           NaN                           NaN   \n",
       "12                           NaN                           NaN   \n",
       "13                           NaN                           NaN   \n",
       "14                           NaN                           NaN   \n",
       "15                           NaN                           NaN   \n",
       "16                           NaN                           NaN   \n",
       "17                           NaN                           NaN   \n",
       "18                           NaN                           NaN   \n",
       "19                           NaN                           NaN   \n",
       "20                           NaN                           NaN   \n",
       "21                           NaN                           NaN   \n",
       "22                           NaN                           NaN   \n",
       "23                           NaN                           NaN   \n",
       "24                           NaN                           NaN   \n",
       "25                           NaN                           NaN   \n",
       "26                           NaN                           NaN   \n",
       "27                           NaN                           NaN   \n",
       "28                           NaN                           NaN   \n",
       "29                           NaN                           NaN   \n",
       "30                           NaN                           NaN   \n",
       "31                           NaN                           NaN   \n",
       "32                           NaN                           NaN   \n",
       "33                           NaN                           NaN   \n",
       "34                           NaN                           NaN   \n",
       "35                           NaN                           NaN   \n",
       "36                           NaN                           NaN   \n",
       "37                           NaN                           NaN   \n",
       "38                           NaN                           NaN   \n",
       "39                           NaN                           NaN   \n",
       "40                           NaN                           NaN   \n",
       "41                           NaN                           NaN   \n",
       "42                           NaN                           NaN   \n",
       "43                           NaN                           NaN   \n",
       "44                           NaN                           NaN   \n",
       "45                           NaN                           NaN   \n",
       "46                           NaN                           NaN   \n",
       "47                           NaN                           NaN   \n",
       "\n",
       "    away_team_mean_midfield_score  \n",
       "0                             NaN  \n",
       "1                             NaN  \n",
       "2                             NaN  \n",
       "3                             NaN  \n",
       "4                             NaN  \n",
       "5                             NaN  \n",
       "6                             NaN  \n",
       "7                             NaN  \n",
       "8                             NaN  \n",
       "9                             NaN  \n",
       "10                            NaN  \n",
       "11                            NaN  \n",
       "12                            NaN  \n",
       "13                            NaN  \n",
       "14                            NaN  \n",
       "15                            NaN  \n",
       "16                            NaN  \n",
       "17                            NaN  \n",
       "18                            NaN  \n",
       "19                            NaN  \n",
       "20                            NaN  \n",
       "21                            NaN  \n",
       "22                            NaN  \n",
       "23                            NaN  \n",
       "24                            NaN  \n",
       "25                            NaN  \n",
       "26                            NaN  \n",
       "27                            NaN  \n",
       "28                            NaN  \n",
       "29                            NaN  \n",
       "30                            NaN  \n",
       "31                            NaN  \n",
       "32                            NaN  \n",
       "33                            NaN  \n",
       "34                            NaN  \n",
       "35                            NaN  \n",
       "36                            NaN  \n",
       "37                            NaN  \n",
       "38                            NaN  \n",
       "39                            NaN  \n",
       "40                            NaN  \n",
       "41                            NaN  \n",
       "42                            NaN  \n",
       "43                            NaN  \n",
       "44                            NaN  \n",
       "45                            NaN  \n",
       "46                            NaN  \n",
       "47                            NaN  \n",
       "\n",
       "[48 rows x 25 columns]"
      ]
     },
     "execution_count": 8,
     "metadata": {},
     "output_type": "execute_result"
    }
   ],
   "source": [
    "# we import the group stage file which contains all the games\n",
    "gs_df_url = 'https://raw.githubusercontent.com/antonpp11/CSI4106-Project1-DB/master/group_stage_games.csv'\n",
    "gs_df = pd.read_csv(gs_df_url)\n",
    "gs_df"
   ]
  },
  {
   "cell_type": "markdown",
   "metadata": {
    "id": "vkJhcNPcGmHi"
   },
   "source": [
    "#4.&nbsp;Encoding the features\n",
    "Our models will use discrete data because each value in the model contains clear spaces between values. For example, the fifa ranking is of integer value between 1 and 60 meaning it is impossible to have a rank of 2.56. Same principle applies to goals: it is impossible for a team to score 4.5 goals. \n",
    "\n",
    "In order to facilitate our model prediction and in order to have better results. We changed the date time format to timedelta integer. In this way, the model can properly predict values. If more than one game has been played during a same day, then we add the index to the timedelta value in order to separate properly each game played."
   ]
  },
  {
   "cell_type": "code",
   "execution_count": null,
   "metadata": {
    "id": "YhbwPfhOeFRE"
   },
   "outputs": [],
   "source": [
    "# change dates to datetime format\n",
    "df['date'] = pd.to_datetime(df['date'])\n",
    "\n",
    "# first game from our dataset\n",
    "first_game_date = df['date'][0]\n",
    "\n",
    "# create timestamps by substracting dates using the first game of our dataset\n",
    "df['timedelta_int'] = ((df['date'] - first_game_date).dt.total_seconds() + df.index).astype(int)\n",
    "df = df.drop('date', axis=1)"
   ]
  },
  {
   "cell_type": "markdown",
   "metadata": {
    "id": "if1jHh8HTqel"
   },
   "source": [
    "For data encoding, we decided to use one-hot encoding. Each team that has been part internation men's FIFA games since the 90s will be one-hot encoded. Each home_team will have the prefix \"h_\" added to it's name and each away team will have the \"a_\" prefix added. As each team played a home and away game it will contain an encoding for each of the 2 prefixes. For example, \"canada\" will become \"h_canada\" and \"a_canada\" with a one-hot encoding. "
   ]
  },
  {
   "cell_type": "code",
   "execution_count": null,
   "metadata": {
    "id": "WI2Oq4wTi-rM"
   },
   "outputs": [],
   "source": [
    "# perform one hot encoding for home and away teams\n",
    "df = pd.get_dummies(\n",
    "    data=df,\n",
    "    columns=[\"home_team\", \"away_team\"],\n",
    "    prefix=[\"h\", \"a\"])"
   ]
  },
  {
   "cell_type": "code",
   "execution_count": null,
   "metadata": {
    "colab": {
     "base_uri": "https://localhost:8080/"
    },
    "id": "uMA49Vi5N-nq",
    "outputId": "32dc2aaf-45ff-41bd-825e-09dd6febf411"
   },
   "outputs": [
    {
     "data": {
      "text/plain": [
       "home_team_fifa_rank     int64\n",
       "away_team_fifa_rank     int64\n",
       "neutral_location         bool\n",
       "home_team_result       object\n",
       "timedelta_int           int64\n",
       "                        ...  \n",
       "a_Vietnam               uint8\n",
       "a_Wales                 uint8\n",
       "a_Yemen                 uint8\n",
       "a_Zambia                uint8\n",
       "a_Zimbabwe              uint8\n",
       "Length: 427, dtype: object"
      ]
     },
     "execution_count": 6,
     "metadata": {},
     "output_type": "execute_result"
    }
   ],
   "source": [
    "# we can now take a look at our data, it looks ready for use\n",
    "df.dtypes"
   ]
  },
  {
   "cell_type": "markdown",
   "metadata": {
    "id": "lmBxiafQNyzO"
   },
   "source": [
    "#5.&nbsp;Preparing the data for the experiment using cross-validation\n",
    "\n",
    "In order to prepare the data from the dataset for the experiment, we must follow 2 steps:\n",
    "\n",
    "1) Extract the attribute associated to the class we will predict. In our case that attribute is home_team_result. This means the feature will contain every attribute except the one mentionned above. In our design, we also keep a copy of the feature for further use.\n",
    "\n",
    "2) Separate the dataset into a test group and a train group. Our train group size represents 75% of the dataset and the test group is composed of the remaining 25%. It is important to note that we use all the games from the dataset from the first one recorded to the latest (Except for games that finished as a draw as mentionned in previous sections)\n",
    "\n",
    "It's important to know that for our FIFA World Cup prediction section, we also created a extra dataset used to predict the future games of the World Cup that aren't in the main dataset extracted from Kaggle.\n",
    "\n",
    "3) In order to have a better use for our data, we must scale it using the StandardScaler. To do so, we fit tranform the X_train value and we transform the the X_test value. \n",
    "\n",
    "We also create a table in order to store the resulting game results. Therefore, this can be optional. "
   ]
  },
  {
   "cell_type": "code",
   "execution_count": null,
   "metadata": {
    "id": "YiMrkzy3cgfF"
   },
   "outputs": [],
   "source": [
    "## prepare dataset by splitting training and test data\n",
    "from sklearn.model_selection import train_test_split\n",
    "\n",
    "# get the features columns\n",
    "features = list(df.columns)\n",
    "features.remove('home_team_result')\n",
    "\n",
    "# keep a copy of the features and all the columns\n",
    "all_teams_columns = list(df.columns).copy()\n",
    "all_teams_features = features.copy()\n",
    "\n",
    "X = df.loc[:, features]\n",
    "y = df.loc[:, ['home_team_result']]\n",
    "X_train, X_test, y_train, y_test = train_test_split(X, y, random_state=0, train_size = .75)\n",
    "y_train = y_train.values.ravel()"
   ]
  },
  {
   "cell_type": "code",
   "execution_count": null,
   "metadata": {
    "id": "tqlccoV6CWh_"
   },
   "outputs": [],
   "source": [
    "# Scaling the data for better use\n",
    "from sklearn.preprocessing import StandardScaler\n",
    "sc = StandardScaler()\n",
    "X_train = sc.fit_transform(X_train)\n",
    "X_test = sc.transform(X_test)"
   ]
  },
  {
   "cell_type": "code",
   "execution_count": null,
   "metadata": {
    "id": "BtnlHYYGF_QR"
   },
   "outputs": [],
   "source": [
    "# We prepare a score list to in which we will add all the testing scores of all models\n",
    "scores = []"
   ]
  },
  {
   "cell_type": "markdown",
   "metadata": {
    "id": "RaWUYGGXPQJp"
   },
   "source": [
    "#6.&nbsp;Naïve Bayes"
   ]
  },
  {
   "cell_type": "markdown",
   "metadata": {
    "id": "J0GZhEsTPYI8"
   },
   "source": [
    "## 6.1. Naïve Bayes with default parameters"
   ]
  },
  {
   "cell_type": "markdown",
   "metadata": {
    "id": "kfr3FJpoQbeY"
   },
   "source": [
    "### 6.1.1. Naïve Bayes training with default parameters\n",
    "\n",
    "As shown in the code below, we start be creating a Naïve Bayes classifier with default parameters.\n",
    "\n",
    "We will use the article from [(scikit-learn developers, 2011)](#scrollTo=t-tK6YBO3lbl&line=1&uniqifier=1) to tweak our parameters."
   ]
  },
  {
   "cell_type": "code",
   "execution_count": null,
   "metadata": {
    "id": "k4BJtkrAwrEK"
   },
   "outputs": [],
   "source": [
    "# Import the Naive Bayes model from sklearn\n",
    "from sklearn.naive_bayes import GaussianNB\n",
    "\n",
    "# Create an instance of the Naive Bayes model with default parameters\n",
    "nb_model = GaussianNB()\n",
    "\n",
    "# Train the model using the training sets\n",
    "nb_model.fit(X_train,y_train)\n",
    "\n",
    "# Get the default parameters for later use\n",
    "nb_default_params = nb_model.get_params().copy()"
   ]
  },
  {
   "cell_type": "markdown",
   "metadata": {
    "id": "IlOU81j0PhXK"
   },
   "source": [
    "### 6.1.2. Naïve Bayes testing with default parameters\n",
    "\n",
    "Here, we seek to predict the values based on our X_test values."
   ]
  },
  {
   "cell_type": "code",
   "execution_count": null,
   "metadata": {
    "id": "c9zxN5oT0Awq"
   },
   "outputs": [],
   "source": [
    "# Do a prediction on the test data\n",
    "y_pred = nb_model.predict(X_test)"
   ]
  },
  {
   "cell_type": "markdown",
   "metadata": {
    "id": "YKjS0QrzPwnu"
   },
   "source": [
    "### 6.1.3. Naïve Bayes evaluation with default parameters\n",
    "\n",
    "The results below show that the precision is high, but the recall, accuracy and F1 are extremely below average.\n",
    "\n",
    "To evaluate our model, we will use the article from [(scikit-learn developers, 2010)](#scrollTo=NYIGA4kB661Z&line=1&uniqifier=1) to find what measures we want to use. In our case, we want to use the following:\n",
    "- Accuracy\n",
    "- Precision\n",
    "- Recall\n",
    "- F1\n",
    "\n",
    "Later, when trying to find the best model, we will determine which measures to use for a final decision."
   ]
  },
  {
   "cell_type": "code",
   "execution_count": null,
   "metadata": {
    "colab": {
     "base_uri": "https://localhost:8080/",
     "height": 316
    },
    "id": "S55lAGyN0CKj",
    "outputId": "6833bb30-0df5-48ff-f8c5-19b6c3e346b2"
   },
   "outputs": [
    {
     "name": "stdout",
     "output_type": "stream",
     "text": [
      "{'precision': 0.8075060532687651, 'recall': 0.6757852077001013, 'accuracy': 0.6898338009928772, 'f1': 0.7357970215113072, 'average': 0.7272305208682627, 'model': 'GaussianNB', 'params': {}}\n"
     ]
    },
    {
     "data": {
      "image/png": "[encoded data removed]",
      "text/plain": [
       "<Figure size 432x288 with 1 Axes>"
      ]
     },
     "metadata": {
      "needs_background": "light"
     },
     "output_type": "display_data"
    }
   ],
   "source": [
    "# Ignore warnings for graph creation\n",
    "import warnings\n",
    "warnings.filterwarnings('ignore')\n",
    "\n",
    "# Import scikit-learn metrics module for evaluation\n",
    "import sklearn.metrics\n",
    "\n",
    "# Evaluate the metrics\n",
    "precision = sklearn.metrics.precision_score(y_test, y_pred, pos_label='Win')\n",
    "recall = sklearn.metrics.recall_score(y_test, y_pred, pos_label='Win')\n",
    "accuracy = sklearn.metrics.accuracy_score(y_test, y_pred)\n",
    "f1 = sklearn.metrics.f1_score(y_test, y_pred, pos_label = 'Win')\n",
    "\n",
    "score = {\n",
    "    \"precision\": precision,\n",
    "    \"recall\": recall,\n",
    "    \"accuracy\": accuracy,\n",
    "    \"f1\" : f1,\n",
    "    \"average\" : mean([precision, recall, accuracy, f1]),\n",
    "    \"model\": type(nb_model).__name__,\n",
    "    \"params\": dict(nb_model.get_params().items() - nb_default_params.items())\n",
    "}\n",
    "\n",
    "scores.append(score)\n",
    "\n",
    "print(score)\n",
    "\n",
    "disp = sklearn.metrics.plot_precision_recall_curve(nb_model, X_test, y_test)"
   ]
  },
  {
   "cell_type": "markdown",
   "metadata": {
    "id": "sS_LeD0vQtfd"
   },
   "source": [
    "## 6.2. Naïve Bayes with 1st iteration of parameters"
   ]
  },
  {
   "cell_type": "markdown",
   "metadata": {
    "id": "by4o6_yMRTXw"
   },
   "source": [
    "### 6.2.1. Naïve Bayes training with 1st iteration of parameters\n",
    "\n",
    "We inspire ourselves from [(Sagir, 2019)](#scrollTo=1J0I5M7G3gkD&line=1&uniqifier=1)'s article which shows how we can change Naïve Bayes parameters.\n",
    "\n",
    "The Naïve Bayes model has very few parameters we can tweak: \n",
    "- priors : Prior probabilities of the classes. If specified, the priors are not adjusted according to the data.\n",
    "- var_smoothing : Portion of the largest variance of all features that is added to variances for calculation stability.\n",
    "\n",
    "As we can see in the above definitions, we shouldn't touch the 'priors' parameter because it will not adjust the model.\n",
    "\n",
    "The only parameter left to change is 'var_smoothing'. By default, it is set to '1e-9'.\n",
    "\n",
    "We will try to make it's value a lot bigger by changing it to '1e0'."
   ]
  },
  {
   "cell_type": "code",
   "execution_count": null,
   "metadata": {
    "colab": {
     "base_uri": "https://localhost:8080/"
    },
    "id": "zFsaNwkzDcHK",
    "outputId": "f7040072-a205-4a17-faf7-d990eb364457"
   },
   "outputs": [
    {
     "data": {
      "text/plain": [
       "GaussianNB(var_smoothing=1.0)"
      ]
     },
     "execution_count": 13,
     "metadata": {},
     "output_type": "execute_result"
    }
   ],
   "source": [
    "# Create an instance of the Naive Bayes model with 1st iteration of parameters\n",
    "nb_model = GaussianNB(var_smoothing=1e0)\n",
    "\n",
    "# Train the model using the training sets\n",
    "nb_model.fit(X_train,y_train)"
   ]
  },
  {
   "cell_type": "markdown",
   "metadata": {
    "id": "BKgOX5izRgSC"
   },
   "source": [
    "### 6.2.2. Naïve Bayes testing with 1st iteration of parameters"
   ]
  },
  {
   "cell_type": "code",
   "execution_count": null,
   "metadata": {
    "id": "FgsN-TzLOUvq"
   },
   "outputs": [],
   "source": [
    "# Do a prediction on the test data\n",
    "y_pred = nb_model.predict(X_test)"
   ]
  },
  {
   "cell_type": "markdown",
   "metadata": {
    "id": "rJbZfcyySTbT"
   },
   "source": [
    "### 6.2.3. Naïve Bayes evaluation with 1st iteration of parameters\n",
    "\n",
    "The results below show that the precision has dropped a little bit, and that the other values are also not very high."
   ]
  },
  {
   "cell_type": "code",
   "execution_count": null,
   "metadata": {
    "colab": {
     "base_uri": "https://localhost:8080/",
     "height": 316
    },
    "id": "yFKB2zIQOX5m",
    "outputId": "2c85ba28-2727-4c04-d16b-cc4f57f5a8fb"
   },
   "outputs": [
    {
     "name": "stdout",
     "output_type": "stream",
     "text": [
      "{'precision': 0.7968097227497152, 'recall': 0.7085444106720703, 'accuracy': 0.6982516727822146, 'f1': 0.7500893814801572, 'average': 0.7384237969210393, 'model': 'GaussianNB', 'params': {'var_smoothing': 1.0}}\n"
     ]
    },
    {
     "data": {
      "image/png": "[encoded data removed]",
      "text/plain": [
       "<Figure size 432x288 with 1 Axes>"
      ]
     },
     "metadata": {
      "needs_background": "light"
     },
     "output_type": "display_data"
    }
   ],
   "source": [
    "# Ignore warnings for graph creation\n",
    "warnings.filterwarnings('ignore')\n",
    "\n",
    "# Evaluate the metrics\n",
    "precision = sklearn.metrics.precision_score(y_test, y_pred, pos_label='Win')\n",
    "recall = sklearn.metrics.recall_score(y_test, y_pred, pos_label='Win')\n",
    "accuracy = sklearn.metrics.accuracy_score(y_test, y_pred)\n",
    "f1 = sklearn.metrics.f1_score(y_test, y_pred, pos_label = 'Win')\n",
    "\n",
    "score = {\n",
    "    \"precision\": precision,\n",
    "    \"recall\": recall,\n",
    "    \"accuracy\": accuracy,\n",
    "    \"f1\" : f1,\n",
    "    \"average\" : mean([precision, recall, accuracy, f1]),\n",
    "    \"model\": type(nb_model).__name__,\n",
    "    \"params\": dict(nb_model.get_params().items() - nb_default_params.items())\n",
    "}\n",
    "\n",
    "scores.append(score)\n",
    "\n",
    "print(score)\n",
    "\n",
    "disp = sklearn.metrics.plot_precision_recall_curve(nb_model, X_test, y_test)"
   ]
  },
  {
   "cell_type": "markdown",
   "metadata": {
    "id": "oNhUCOGYSnbw"
   },
   "source": [
    "## 6.3. Naïve Bayes with 2nd iteration of parameters"
   ]
  },
  {
   "cell_type": "markdown",
   "metadata": {
    "id": "pBnwx-w5TPFn"
   },
   "source": [
    "### 6.3.1. Naïve Bayes training with 2nd iteration of parameters\n",
    "\n",
    "We tried to make 'var_smoothing' a lot bigger, let's try to make it a lot smaller than the default.\n",
    "\n",
    "We will change it to '1e-15'."
   ]
  },
  {
   "cell_type": "code",
   "execution_count": null,
   "metadata": {
    "colab": {
     "base_uri": "https://localhost:8080/"
    },
    "id": "y9TvvFbwPG8v",
    "outputId": "676ee616-503b-4d80-b273-0fbcf247e0cb"
   },
   "outputs": [
    {
     "data": {
      "text/plain": [
       "GaussianNB(var_smoothing=1e-15)"
      ]
     },
     "execution_count": 16,
     "metadata": {},
     "output_type": "execute_result"
    }
   ],
   "source": [
    "# Create an instance of the Naive Bayes model with 2nd iteration of parameters\n",
    "nb_model = GaussianNB(var_smoothing=1e-15)\n",
    "\n",
    "# Train the model using the training sets\n",
    "nb_model.fit(X_train,y_train)"
   ]
  },
  {
   "cell_type": "markdown",
   "metadata": {
    "id": "xXZUeOxuUKuM"
   },
   "source": [
    "### 6.3.2. Naïve Bayes testing with 2nd iteration of parameters"
   ]
  },
  {
   "cell_type": "code",
   "execution_count": null,
   "metadata": {
    "id": "igXfMuNJPJ30"
   },
   "outputs": [],
   "source": [
    "# Do a prediction on the test data\n",
    "y_pred = nb_model.predict(X_test)"
   ]
  },
  {
   "cell_type": "markdown",
   "metadata": {
    "id": "qTqUO-MxUUTI"
   },
   "source": [
    "### 6.3.3. Naïve Bayes evaluation with 2nd iteration of parameters\n",
    "\n",
    "The results below show that there isn't much difference between this variation and the default version. Overall, the scores of the Naïve Bayes classifier are not very strong."
   ]
  },
  {
   "cell_type": "code",
   "execution_count": null,
   "metadata": {
    "colab": {
     "base_uri": "https://localhost:8080/",
     "height": 316
    },
    "id": "HSl5Kr7bPMdu",
    "outputId": "0864fc73-46f3-4ed2-c0ef-1bd4b6217420"
   },
   "outputs": [
    {
     "name": "stdout",
     "output_type": "stream",
     "text": [
      "{'precision': 0.8075060532687651, 'recall': 0.6757852077001013, 'accuracy': 0.6898338009928772, 'f1': 0.7357970215113072, 'average': 0.7272305208682627, 'model': 'GaussianNB', 'params': {'var_smoothing': 1e-15}}\n"
     ]
    },
    {
     "data": {
      "image/png": "[encoded data removed]",
      "text/plain": [
       "<Figure size 432x288 with 1 Axes>"
      ]
     },
     "metadata": {
      "needs_background": "light"
     },
     "output_type": "display_data"
    }
   ],
   "source": [
    "# Ignore warnings for graph creation\n",
    "warnings.filterwarnings('ignore')\n",
    "\n",
    "# Evaluate the metrics\n",
    "precision = sklearn.metrics.precision_score(y_test, y_pred, pos_label='Win')\n",
    "recall = sklearn.metrics.recall_score(y_test, y_pred, pos_label='Win')\n",
    "accuracy = sklearn.metrics.accuracy_score(y_test, y_pred)\n",
    "f1 = sklearn.metrics.f1_score(y_test, y_pred, pos_label = 'Win')\n",
    "\n",
    "score = {\n",
    "    \"precision\": precision,\n",
    "    \"recall\": recall,\n",
    "    \"accuracy\": accuracy,\n",
    "    \"f1\" : f1,\n",
    "    \"average\" : mean([precision, recall, accuracy, f1]),\n",
    "    \"model\": type(nb_model).__name__,\n",
    "    \"params\": dict(nb_model.get_params().items() - nb_default_params.items())\n",
    "}\n",
    "\n",
    "scores.append(score)\n",
    "\n",
    "print(score)\n",
    "\n",
    "disp = sklearn.metrics.plot_precision_recall_curve(nb_model, X_test, y_test)"
   ]
  },
  {
   "cell_type": "markdown",
   "metadata": {
    "id": "PmFu5udeVncL"
   },
   "source": [
    "#7.&nbsp;Logistic Regression"
   ]
  },
  {
   "cell_type": "markdown",
   "metadata": {
    "id": "pgxm_TX3YGan"
   },
   "source": [
    "## 7.1. Logistic Regression with default parameters"
   ]
  },
  {
   "cell_type": "markdown",
   "metadata": {
    "id": "o_ZISHQoYOtu"
   },
   "source": [
    "### 7.1.1. Logistic Regression training with default parameters\n",
    "\n",
    "We create a Logistic Regression model using the default parameters.\n",
    "\n",
    "We will use the article from [(scikit-learn developers, 2014)](#scrollTo=95cB783D3jQ6&line=1&uniqifier=1) to tweak our parameters."
   ]
  },
  {
   "cell_type": "code",
   "execution_count": null,
   "metadata": {
    "id": "dWGkhvUj5xrw"
   },
   "outputs": [],
   "source": [
    "# Import the Logistic Regression model from sklearn\n",
    "from sklearn.linear_model import LogisticRegression\n",
    "\n",
    "# Create an instance of the Naive Bayes model with default parameters\n",
    "lr_model = LogisticRegression()\n",
    "\n",
    "# Train the model using the training sets\n",
    "lr_model.fit(X_train,y_train)\n",
    "\n",
    "# Get the default parameters for later use\n",
    "lr_default_params = lr_model.get_params().copy()"
   ]
  },
  {
   "cell_type": "markdown",
   "metadata": {
    "id": "GZUQU5AJYVWY"
   },
   "source": [
    "### 7.1.2. Logistic Regression testing with default parameters"
   ]
  },
  {
   "cell_type": "code",
   "execution_count": null,
   "metadata": {
    "id": "TbAnrkAj6pkm"
   },
   "outputs": [],
   "source": [
    "# Do a prediction on the test data\n",
    "y_pred = lr_model.predict(X_test)"
   ]
  },
  {
   "cell_type": "markdown",
   "metadata": {
    "id": "EouVSQ-UYfBo"
   },
   "source": [
    "### 7.1.3. Logistic Regression evaluation with default parameters\n",
    "\n",
    "The results show an improved score in every category compared to the Naïve Bayes model."
   ]
  },
  {
   "cell_type": "code",
   "execution_count": null,
   "metadata": {
    "colab": {
     "base_uri": "https://localhost:8080/",
     "height": 316
    },
    "id": "Jnt3B8Dh7JEu",
    "outputId": "6fafab99-400f-496b-f426-03a316422c89"
   },
   "outputs": [
    {
     "name": "stdout",
     "output_type": "stream",
     "text": [
      "{'precision': 0.8035714285714286, 'recall': 0.851063829787234, 'accuracy': 0.7718540902223181, 'f1': 0.8266360505166476, 'average': 0.8132813497744071, 'model': 'LogisticRegression', 'params': {}}\n"
     ]
    },
    {
     "data": {
      "image/png": "[encoded data removed]",
      "text/plain": [
       "<Figure size 432x288 with 1 Axes>"
      ]
     },
     "metadata": {
      "needs_background": "light"
     },
     "output_type": "display_data"
    }
   ],
   "source": [
    "# Ignore warnings for graph creation\n",
    "warnings.filterwarnings('ignore')\n",
    "\n",
    "# Evaluate the metrics\n",
    "precision = sklearn.metrics.precision_score(y_test, y_pred, pos_label='Win')\n",
    "recall = sklearn.metrics.recall_score(y_test, y_pred, pos_label='Win')\n",
    "accuracy = sklearn.metrics.accuracy_score(y_test, y_pred)\n",
    "f1 = sklearn.metrics.f1_score(y_test, y_pred, pos_label = 'Win')\n",
    "\n",
    "score = {\n",
    "    \"precision\": precision,\n",
    "    \"recall\": recall,\n",
    "    \"accuracy\": accuracy,\n",
    "    \"f1\" : f1,\n",
    "    \"average\" : mean([precision, recall, accuracy, f1]),\n",
    "    \"model\": type(lr_model).__name__,\n",
    "    \"params\": dict(lr_model.get_params().items() - lr_default_params.items())\n",
    "}\n",
    "\n",
    "scores.append(score)\n",
    "\n",
    "print(score)\n",
    "\n",
    "disp = sklearn.metrics.plot_precision_recall_curve(lr_model, X_test, y_test)"
   ]
  },
  {
   "cell_type": "markdown",
   "metadata": {
    "id": "TcyE82V5Yuyj"
   },
   "source": [
    "## 7.2. Logistic Regression with 1st iteration of parameters"
   ]
  },
  {
   "cell_type": "markdown",
   "metadata": {
    "id": "trrep_UtY6w-"
   },
   "source": [
    "### 7.2.1. Logistic Regression training with 1st iteration of parameters\n",
    "\n",
    "We use the article from [(Stojiljković, 2019)](#scrollTo=O7ZuHG5y3qBe&line=1&uniqifier=1) to inspire ourselves for parameters modifications for the Logistic Regression model.\n",
    "\n",
    "Online research shows that a lot of tweaks can be made to the parameters. In our case, we will modify the following:\n",
    "- 'solver': Algorithm to use in the optimization problem. Default is ‘lbfgs’. We will change it to 'newton-cg'\n",
    "- 'C': Inverse of regularization strength; must be a positive float. Like in support vector machines, smaller values specify stronger regularization. Default is 1.0. We will change it to 0.01\n",
    "- 'max_iter': Maximum number of iterations taken for the solvers to converge. Default is 100. We will augment the number of iterations to 1000.\n"
   ]
  },
  {
   "cell_type": "code",
   "execution_count": null,
   "metadata": {
    "colab": {
     "base_uri": "https://localhost:8080/"
    },
    "id": "6jN0aaHSQpqF",
    "outputId": "fa5a2879-1e89-4eb8-da58-0b1d41c75a5b"
   },
   "outputs": [
    {
     "data": {
      "text/plain": [
       "LogisticRegression(C=0.01, max_iter=1000, solver='newton-cg')"
      ]
     },
     "execution_count": 22,
     "metadata": {},
     "output_type": "execute_result"
    }
   ],
   "source": [
    "# Create an instance of the Naive Bayes model with 1st iteration of parameters\n",
    "lr_model = LogisticRegression(solver='newton-cg', C=0.01, max_iter=1000)\n",
    "\n",
    "# Train the model using the training sets\n",
    "lr_model.fit(X_train,y_train)"
   ]
  },
  {
   "cell_type": "markdown",
   "metadata": {
    "id": "YhEBKug9Y_SS"
   },
   "source": [
    "### 7.2.2. Logistic Regression testing with 1st iteration of parameters"
   ]
  },
  {
   "cell_type": "code",
   "execution_count": null,
   "metadata": {
    "id": "zFcPsPalQtyh"
   },
   "outputs": [],
   "source": [
    "# Do a prediction on the test data\n",
    "y_pred = lr_model.predict(X_test)"
   ]
  },
  {
   "cell_type": "markdown",
   "metadata": {
    "id": "YkXi0gFNZDwV"
   },
   "source": [
    "### 7.2.3. Logistic Regression evaluation with 1st iteration of parameters\n",
    "\n",
    "As we can see, we have a very high recall rate, so the changes we applied are very interesting. However, precision was lost."
   ]
  },
  {
   "cell_type": "code",
   "execution_count": null,
   "metadata": {
    "colab": {
     "base_uri": "https://localhost:8080/",
     "height": 316
    },
    "id": "rNygh-LvQ2Yi",
    "outputId": "f41db8a5-17ab-47ea-f590-f500b7ccc6b2"
   },
   "outputs": [
    {
     "name": "stdout",
     "output_type": "stream",
     "text": [
      "{'precision': 0.7959824231010671, 'recall': 0.856467409658899, 'accuracy': 0.7679689186272394, 'f1': 0.82511794371238, 'average': 0.8113841737748964, 'model': 'LogisticRegression', 'params': {'max_iter': 1000, 'solver': 'newton-cg', 'C': 0.01}}\n"
     ]
    },
    {
     "data": {
      "image/png": "[encoded data removed]",
      "text/plain": [
       "<Figure size 432x288 with 1 Axes>"
      ]
     },
     "metadata": {
      "needs_background": "light"
     },
     "output_type": "display_data"
    }
   ],
   "source": [
    "# Ignore warnings for graph creation\n",
    "warnings.filterwarnings('ignore')\n",
    "\n",
    "# Evaluate the metrics\n",
    "precision = sklearn.metrics.precision_score(y_test, y_pred, pos_label='Win')\n",
    "recall = sklearn.metrics.recall_score(y_test, y_pred, pos_label='Win')\n",
    "accuracy = sklearn.metrics.accuracy_score(y_test, y_pred)\n",
    "f1 = sklearn.metrics.f1_score(y_test, y_pred, pos_label = 'Win')\n",
    "\n",
    "score = {\n",
    "    \"precision\": precision,\n",
    "    \"recall\": recall,\n",
    "    \"accuracy\": accuracy,\n",
    "    \"f1\" : f1,\n",
    "    \"average\" : mean([precision, recall, accuracy, f1]),\n",
    "    \"model\": type(lr_model).__name__,\n",
    "    \"params\": dict(lr_model.get_params().items() - lr_default_params.items())\n",
    "}\n",
    "\n",
    "scores.append(score)\n",
    "\n",
    "print(score)\n",
    "\n",
    "disp = sklearn.metrics.plot_precision_recall_curve(lr_model, X_test, y_test)"
   ]
  },
  {
   "cell_type": "markdown",
   "metadata": {
    "id": "tM6nUuclZJ5C"
   },
   "source": [
    "## 7.3. Logistic Regression with 2nd iteration of parameters"
   ]
  },
  {
   "cell_type": "markdown",
   "metadata": {
    "id": "feS9Jo4HZOLt"
   },
   "source": [
    "### 7.3.1. Logistic Regression training with 2nd iteration of parameters\n",
    "\n",
    "To cope with the changes of the last iteration, we will try to augment 'C' to 0.1. We will also upgrade the number of iterations to 10 000."
   ]
  },
  {
   "cell_type": "code",
   "execution_count": null,
   "metadata": {
    "colab": {
     "base_uri": "https://localhost:8080/"
    },
    "id": "NrVFipeHQ6Yl",
    "outputId": "b321e55e-03c3-4121-e246-e099ef4a3f1b"
   },
   "outputs": [
    {
     "data": {
      "text/plain": [
       "LogisticRegression(C=0.1, max_iter=10000, solver='newton-cg')"
      ]
     },
     "execution_count": 25,
     "metadata": {},
     "output_type": "execute_result"
    }
   ],
   "source": [
    "# Create an instance of the Naive Bayes model with 2nd iteration of parameters\n",
    "lr_model = LogisticRegression(solver='newton-cg', C=0.1, max_iter=10000)\n",
    "\n",
    "# Train the model using the training sets\n",
    "lr_model.fit(X_train,y_train)"
   ]
  },
  {
   "cell_type": "markdown",
   "metadata": {
    "id": "eBQpItmIZRJZ"
   },
   "source": [
    "### 7.3.2. Logistic Regression testing with 2nd iteration of parameters"
   ]
  },
  {
   "cell_type": "code",
   "execution_count": null,
   "metadata": {
    "id": "63LX9hNNQ9E2"
   },
   "outputs": [],
   "source": [
    "# Do a prediction on the test data\n",
    "y_pred = lr_model.predict(X_test)"
   ]
  },
  {
   "cell_type": "markdown",
   "metadata": {
    "id": "HRuTR3IEZVDO"
   },
   "source": [
    "### 7.3.3. Logistic Regression evaluation with 2nd iteration of parameters"
   ]
  },
  {
   "cell_type": "code",
   "execution_count": null,
   "metadata": {
    "colab": {
     "base_uri": "https://localhost:8080/",
     "height": 316
    },
    "id": "ZagYVB_qQ_gB",
    "outputId": "7b2da9e1-27a2-4c16-f213-b55492300a4b"
   },
   "outputs": [
    {
     "name": "stdout",
     "output_type": "stream",
     "text": [
      "{'precision': 0.8028662420382165, 'recall': 0.8514015535292131, 'accuracy': 0.7714224044895316, 'f1': 0.8264218980495002, 'average': 0.8130280245266154, 'model': 'LogisticRegression', 'params': {'C': 0.1, 'max_iter': 10000, 'solver': 'newton-cg'}}\n"
     ]
    },
    {
     "data": {
      "image/png": "[encoded data removed]",
      "text/plain": [
       "<Figure size 432x288 with 1 Axes>"
      ]
     },
     "metadata": {
      "needs_background": "light"
     },
     "output_type": "display_data"
    }
   ],
   "source": [
    "# Ignore warnings for graph creation\n",
    "warnings.filterwarnings('ignore')\n",
    "\n",
    "# Evaluate the metrics\n",
    "precision = sklearn.metrics.precision_score(y_test, y_pred, pos_label='Win')\n",
    "recall = sklearn.metrics.recall_score(y_test, y_pred, pos_label='Win')\n",
    "accuracy = sklearn.metrics.accuracy_score(y_test, y_pred)\n",
    "f1 = sklearn.metrics.f1_score(y_test, y_pred, pos_label = 'Win')\n",
    "\n",
    "score = {\n",
    "    \"precision\": precision,\n",
    "    \"recall\": recall,\n",
    "    \"accuracy\": accuracy,\n",
    "    \"f1\" : f1,\n",
    "    \"average\" : mean([precision, recall, accuracy, f1]),\n",
    "    \"model\": type(lr_model).__name__,\n",
    "    \"params\": dict(lr_model.get_params().items() - lr_default_params.items())\n",
    "}\n",
    "\n",
    "scores.append(score)\n",
    "\n",
    "print(score)\n",
    "\n",
    "disp = sklearn.metrics.plot_precision_recall_curve(lr_model, X_test, y_test)"
   ]
  },
  {
   "cell_type": "markdown",
   "metadata": {
    "id": "XGS37i4PVoBP"
   },
   "source": [
    "#8.&nbsp;Multi-Layer Perceptron"
   ]
  },
  {
   "cell_type": "markdown",
   "metadata": {
    "id": "i6x-XvhHZjWN"
   },
   "source": [
    "## 8.1. Multi-Layer Perceptron with default parameters"
   ]
  },
  {
   "cell_type": "markdown",
   "metadata": {
    "id": "ISCbY7vhZ395"
   },
   "source": [
    "### 8.1.1. Multi-Layer Perceptron training with default parameters\n",
    "\n",
    "We create our default MLP model.\n",
    "\n",
    "We will use this article from [(scikit-learn developers, 2010)](#scrollTo=hSYk4HZ-3nFi&line=1&uniqifier=1) to tweak our parameters."
   ]
  },
  {
   "cell_type": "code",
   "execution_count": null,
   "metadata": {
    "id": "iLL8RnyW698E"
   },
   "outputs": [],
   "source": [
    "# Import the Multi-Layer Perceptron model from sklearn\n",
    "from sklearn.neural_network import MLPClassifier\n",
    "\n",
    "# Create an instance of the MLP model with default parameters\n",
    "mlp_model = MLPClassifier()\n",
    "\n",
    "# Train the model using the training sets\n",
    "mlp_model.fit(X_train,y_train)\n",
    "\n",
    "# Get the default parameters for later use\n",
    "mlp_default_params = mlp_model.get_params().copy()"
   ]
  },
  {
   "cell_type": "markdown",
   "metadata": {
    "id": "YSEFr6_IZ-a-"
   },
   "source": [
    "### 8.1.2. Multi-Layer Perceptron testing with default parameters"
   ]
  },
  {
   "cell_type": "code",
   "execution_count": null,
   "metadata": {
    "id": "VDY18MGqWa5Q"
   },
   "outputs": [],
   "source": [
    "# Do a prediction on the test data\n",
    "y_pred = mlp_model.predict(X_test)"
   ]
  },
  {
   "cell_type": "markdown",
   "metadata": {
    "id": "Ulbt50dLaA9D"
   },
   "source": [
    "### 8.1.3. Multi-Layer Perceptron evaluation with default parameters\n",
    "\n",
    "We get pretty average results with the default parameters."
   ]
  },
  {
   "cell_type": "code",
   "execution_count": null,
   "metadata": {
    "colab": {
     "base_uri": "https://localhost:8080/",
     "height": 316
    },
    "id": "s2AwreN2W15L",
    "outputId": "861b7b8a-4375-4948-e974-dce0ede5a63b"
   },
   "outputs": [
    {
     "name": "stdout",
     "output_type": "stream",
     "text": [
      "{'precision': 0.7683448502796972, 'recall': 0.7885849375211077, 'accuracy': 0.7129289876969566, 'f1': 0.7783333333333334, 'average': 0.7620480272077738, 'model': 'MLPClassifier', 'params': {}}\n"
     ]
    },
    {
     "data": {
      "image/png": "[encoded data removed]",
      "text/plain": [
       "<Figure size 432x288 with 1 Axes>"
      ]
     },
     "metadata": {
      "needs_background": "light"
     },
     "output_type": "display_data"
    }
   ],
   "source": [
    "# Ignore warnings for graph creation\n",
    "warnings.filterwarnings('ignore')\n",
    "\n",
    "# Evaluate the metrics\n",
    "precision = sklearn.metrics.precision_score(y_test, y_pred, pos_label='Win')\n",
    "recall = sklearn.metrics.recall_score(y_test, y_pred, pos_label='Win')\n",
    "accuracy = sklearn.metrics.accuracy_score(y_test, y_pred)\n",
    "f1 = sklearn.metrics.f1_score(y_test, y_pred, pos_label = 'Win')\n",
    "\n",
    "score = {\n",
    "    \"precision\": precision,\n",
    "    \"recall\": recall,\n",
    "    \"accuracy\": accuracy,\n",
    "    \"f1\" : f1,\n",
    "    \"average\" : mean([precision, recall, accuracy, f1]),\n",
    "    \"model\": type(mlp_model).__name__,\n",
    "    \"params\": dict(mlp_model.get_params().items() - mlp_default_params.items())\n",
    "}\n",
    "\n",
    "scores.append(score)\n",
    "\n",
    "print(score)\n",
    "\n",
    "disp = sklearn.metrics.plot_precision_recall_curve(mlp_model, X_test, y_test)"
   ]
  },
  {
   "cell_type": "markdown",
   "metadata": {
    "id": "0nvRCKtwZqlW"
   },
   "source": [
    "## 8.2. Multi-Layer Perceptron with 1st iteration of parameters\n",
    "\n"
   ]
  },
  {
   "cell_type": "markdown",
   "metadata": {
    "id": "kqHy4-l5aHFG"
   },
   "source": [
    "### 8.2.1. Multi-Layer Perceptron training with 1st iteration of parameters\n",
    "\n",
    "To change our parameters for the MLP Classifier, we will use the article from [(Panjeh, 2020)](#scrollTo=GrBBiv3d3eCj&line=1&uniqifier=1)  for inspiration.\n",
    "\n",
    "We will change the following parameters:\n",
    "- hidden_layer_sizes: The ith element represents the number of neurons in the ith hidden layer. Default is (100,). We will change it to (50,).\n",
    "- activation: Activation function for the hidden layer. Default is 'relu'. We will change it to the hyperbolic tan function (f(x) = tanh(x)), so it will be 'tanh'\n",
    "- alpha: Strength of the L2 regularization term. The L2 regularization term is divided by the sample size when added to the loss. Default is 0.0001. We will change it to a much bigger number; 1."
   ]
  },
  {
   "cell_type": "code",
   "execution_count": null,
   "metadata": {
    "colab": {
     "base_uri": "https://localhost:8080/"
    },
    "id": "hcygIIpmSyqh",
    "outputId": "3cd2e99d-0da9-4fd7-d8dc-807b9e1e43a6"
   },
   "outputs": [
    {
     "data": {
      "text/plain": [
       "MLPClassifier(activation='tanh', alpha=1, hidden_layer_sizes=(50,))"
      ]
     },
     "execution_count": 31,
     "metadata": {},
     "output_type": "execute_result"
    }
   ],
   "source": [
    "# Create an instance of the MLP model with 1st iteration of parameters\n",
    "mlp_model = MLPClassifier(hidden_layer_sizes=(50,), activation='tanh', alpha=1)\n",
    "# Train the model using the training sets\n",
    "mlp_model.fit(X_train,y_train)"
   ]
  },
  {
   "cell_type": "markdown",
   "metadata": {
    "id": "capwlv3DaLpj"
   },
   "source": [
    "### 8.2.2. Multi-Layer Perceptron testing with 1st iteration of parameters"
   ]
  },
  {
   "cell_type": "code",
   "execution_count": null,
   "metadata": {
    "id": "K7lH9_AmSuQa"
   },
   "outputs": [],
   "source": [
    "# Do a prediction on the test data\n",
    "y_pred = mlp_model.predict(X_test)"
   ]
  },
  {
   "cell_type": "markdown",
   "metadata": {
    "id": "Qmmh2hzpaN-f"
   },
   "source": [
    "### 8.2.3. Multi-Layer Perceptron evaluation with 1st iteration of parameters\n",
    "\n",
    "The results shown below show a lot of improvement over the default parameters."
   ]
  },
  {
   "cell_type": "code",
   "execution_count": null,
   "metadata": {
    "colab": {
     "base_uri": "https://localhost:8080/",
     "height": 316
    },
    "id": "94lCxZUgSpjS",
    "outputId": "41ef3d3e-b1fb-4fe3-bb4a-fd95815036e1"
   },
   "outputs": [
    {
     "name": "stdout",
     "output_type": "stream",
     "text": [
      "{'precision': 0.7915713819013395, 'recall': 0.8183046268152652, 'accuracy': 0.7461687891215195, 'f1': 0.8047160411823315, 'average': 0.7901902097551139, 'model': 'MLPClassifier', 'params': {'hidden_layer_sizes': (50,), 'activation': 'tanh', 'alpha': 1}}\n"
     ]
    },
    {
     "data": {
      "image/png": "[encoded data removed]",
      "text/plain": [
       "<Figure size 432x288 with 1 Axes>"
      ]
     },
     "metadata": {
      "needs_background": "light"
     },
     "output_type": "display_data"
    }
   ],
   "source": [
    "# Ignore warnings for graph creation\n",
    "warnings.filterwarnings('ignore')\n",
    "\n",
    "# Evaluate the metrics\n",
    "precision = sklearn.metrics.precision_score(y_test, y_pred, pos_label='Win')\n",
    "recall = sklearn.metrics.recall_score(y_test, y_pred, pos_label='Win')\n",
    "accuracy = sklearn.metrics.accuracy_score(y_test, y_pred)\n",
    "f1 = sklearn.metrics.f1_score(y_test, y_pred, pos_label = 'Win')\n",
    "\n",
    "score = {\n",
    "    \"precision\": precision,\n",
    "    \"recall\": recall,\n",
    "    \"accuracy\": accuracy,\n",
    "    \"f1\" : f1,\n",
    "    \"average\" : mean([precision, recall, accuracy, f1]),\n",
    "    \"model\": type(mlp_model).__name__,\n",
    "    \"params\": dict(mlp_model.get_params().items() - mlp_default_params.items())\n",
    "}\n",
    "\n",
    "scores.append(score)\n",
    "\n",
    "print(score)\n",
    "\n",
    "disp = sklearn.metrics.plot_precision_recall_curve(mlp_model, X_test, y_test)"
   ]
  },
  {
   "cell_type": "markdown",
   "metadata": {
    "id": "r8pxT6FDZtwx"
   },
   "source": [
    "## 8.3. Multi-Layer Perceptron with 2nd iteration of parameters"
   ]
  },
  {
   "cell_type": "markdown",
   "metadata": {
    "id": "IBMnGL1oaUrD"
   },
   "source": [
    "### 8.3.1. Multi-Layer Perceptron training with 2nd iteration of parameters\n"
   ]
  },
  {
   "cell_type": "code",
   "execution_count": null,
   "metadata": {
    "colab": {
     "base_uri": "https://localhost:8080/"
    },
    "id": "7DYNnVuUS4LJ",
    "outputId": "d55e7cc7-5269-4a61-8a7b-de0280d89f56"
   },
   "outputs": [
    {
     "data": {
      "text/plain": [
       "MLPClassifier(alpha=1, hidden_layer_sizes=150, learning_rate='adaptive',\n",
       "              max_iter=300)"
      ]
     },
     "execution_count": 34,
     "metadata": {},
     "output_type": "execute_result"
    }
   ],
   "source": [
    "# Create an instance of the MLP model with 2nd iteration of parameters\n",
    "mlp_model = MLPClassifier(hidden_layer_sizes=(150), max_iter=300, alpha=1, learning_rate='adaptive')\n",
    "# Train the model using the training sets\n",
    "mlp_model.fit(X_train,y_train)"
   ]
  },
  {
   "cell_type": "markdown",
   "metadata": {
    "id": "pNRDG0PMaYQg"
   },
   "source": [
    "### 8.3.2. Multi-Layer Perceptron testing with 2nd iteration of parameters"
   ]
  },
  {
   "cell_type": "code",
   "execution_count": null,
   "metadata": {
    "id": "MUB1bKEFSvQg"
   },
   "outputs": [],
   "source": [
    "# Do a prediction on the test data\n",
    "y_pred = mlp_model.predict(X_test)"
   ]
  },
  {
   "cell_type": "markdown",
   "metadata": {
    "id": "CZfMI1duabVx"
   },
   "source": [
    "### 8.3.3. Multi-Layer Perceptron evaluation with 2nd iteration of parameters"
   ]
  },
  {
   "cell_type": "code",
   "execution_count": null,
   "metadata": {
    "colab": {
     "base_uri": "https://localhost:8080/",
     "height": 316
    },
    "id": "QTWu7XHLSqwX",
    "outputId": "820dab1c-5d11-4641-af5e-04cc1e557ff4"
   },
   "outputs": [
    {
     "name": "stdout",
     "output_type": "stream",
     "text": [
      "{'precision': 0.788567716791166, 'recall': 0.8199932455251604, 'accuracy': 0.7444420461903735, 'f1': 0.8039735099337748, 'average': 0.7892441296101187, 'model': 'MLPClassifier', 'params': {'max_iter': 300, 'learning_rate': 'adaptive', 'alpha': 1, 'hidden_layer_sizes': 150}}\n"
     ]
    },
    {
     "data": {
      "image/png": "[encoded data removed]",
      "text/plain": [
       "<Figure size 432x288 with 1 Axes>"
      ]
     },
     "metadata": {
      "needs_background": "light"
     },
     "output_type": "display_data"
    }
   ],
   "source": [
    "# Ignore warnings for graph creation\n",
    "warnings.filterwarnings('ignore')\n",
    "\n",
    "# Evaluate the metrics\n",
    "precision = sklearn.metrics.precision_score(y_test, y_pred, pos_label='Win')\n",
    "recall = sklearn.metrics.recall_score(y_test, y_pred, pos_label='Win')\n",
    "accuracy = sklearn.metrics.accuracy_score(y_test, y_pred)\n",
    "f1 = sklearn.metrics.f1_score(y_test, y_pred, pos_label = 'Win')\n",
    "\n",
    "score = {\n",
    "    \"precision\": precision,\n",
    "    \"recall\": recall,\n",
    "    \"accuracy\": accuracy,\n",
    "    \"f1\" : f1,\n",
    "    \"average\" : mean([precision, recall, accuracy, f1]),\n",
    "    \"model\": type(mlp_model).__name__,\n",
    "    \"params\": dict(mlp_model.get_params().items() - mlp_default_params.items())\n",
    "}\n",
    "\n",
    "scores.append(score)\n",
    "\n",
    "print(score)\n",
    "\n",
    "disp = sklearn.metrics.plot_precision_recall_curve(mlp_model, X_test, y_test)"
   ]
  },
  {
   "cell_type": "markdown",
   "metadata": {
    "id": "8xKiM0KRWFJ7"
   },
   "source": [
    "#9.&nbsp;Analyzing the obtained results\n",
    "\n",
    "Now that we tested and evaluated all the different models, we will try to decide what model with which parameters we should use.\n",
    "\n",
    "We will get the highest scores using the precision, recall, accuraccy and f1 scores."
   ]
  },
  {
   "cell_type": "code",
   "execution_count": null,
   "metadata": {
    "id": "tuQKl8ZZPeuc"
   },
   "outputs": [],
   "source": [
    "# Most Precise Model\n",
    "most_precise = max(scores, key=lambda x:x['precision'])\n",
    "\n",
    "# Most Recall Model\n",
    "most_recall = max(scores, key=lambda x:x['recall'])\n",
    "\n",
    "# Most Accurate Model\n",
    "most_accurate = max(scores, key=lambda x:x['accuracy'])\n",
    "\n",
    "# Most F1 Model\n",
    "most_f1 = max(scores, key=lambda x:x['f1'])"
   ]
  },
  {
   "cell_type": "code",
   "execution_count": null,
   "metadata": {
    "colab": {
     "base_uri": "https://localhost:8080/",
     "height": 124
    },
    "id": "hqE-0Y8rWcfC",
    "outputId": "e33ed370-229b-4cf7-c4b7-bb7cbffe2851"
   },
   "outputs": [
    {
     "data": {
      "text/html": [
       "<table>\n",
       "<tbody>\n",
       "<tr><td>Highest Attribute</td><td>Model Name        </td><td>Parameters                                          </td><td>Value             </td></tr>\n",
       "<tr><td>Precision        </td><td>GaussianNB        </td><td>{}                                                  </td><td>0.8075060532687651</td></tr>\n",
       "<tr><td>Recall           </td><td>LogisticRegression</td><td>{&#x27;max_iter&#x27;: 1000, &#x27;solver&#x27;: &#x27;newton-cg&#x27;, &#x27;C&#x27;: 0.01}</td><td>0.856467409658899 </td></tr>\n",
       "<tr><td>Accuracy         </td><td>LogisticRegression</td><td>{}                                                  </td><td>0.7718540902223181</td></tr>\n",
       "<tr><td>F1               </td><td>LogisticRegression</td><td>{}                                                  </td><td>0.8266360505166476</td></tr>\n",
       "</tbody>\n",
       "</table>"
      ],
      "text/plain": [
       "<IPython.core.display.HTML object>"
      ]
     },
     "metadata": {},
     "output_type": "display_data"
    }
   ],
   "source": [
    "# Show a table containing the outputted results\n",
    "data = [\n",
    "    [\"Highest Attribute\", \"Model Name\", \"Parameters\", \"Value\"],\n",
    "    [\"Precision\", most_precise['model'], most_precise['params'], most_precise['precision']],\n",
    "    [\"Recall\", most_recall['model'], most_recall['params'], most_recall['recall']],\n",
    "    [\"Accuracy\", most_accurate['model'], most_accurate['params'], most_accurate['accuracy']],\n",
    "    [\"F1\", most_f1['model'], most_f1['params'], most_f1['f1']]\n",
    "]\n",
    "\n",
    "import tabulate\n",
    "table = tabulate.tabulate(data, tablefmt='html')\n",
    "\n",
    "from IPython.display import HTML, display\n",
    "display(HTML(table))"
   ]
  },
  {
   "cell_type": "markdown",
   "metadata": {
    "id": "uGabnVJQTKgS"
   },
   "source": [
    "The table above shows all the most important scores to analyse our results. We used the article from [(Vadakattu, 2021)](#scrollTo=QO01m4oTMu-b&line=1&uniqifier=1) to format our table for better displaying of the results.\n",
    "\n",
    "First, lets define the scores and how we could interpret them in a 'soccer game' way.\n",
    "\n",
    "The article from [(Afonja, 2017)](#scrollTo=x_9U3qjq3YWe&line=2&uniqifier=1) will help us understand better the way the different scores work. We will use the example from the article and adapt it to our problem/dataset.\n",
    "\n",
    "Lets take an example where we have a dataset of 100 games. The games are categorized as a home team win or a home team loss. \n",
    "\n",
    "We will give the following values:\n",
    "- We have 40 home team wins.\n",
    "- We have 60 home teams losses.\n",
    "\n",
    "```\n",
    "games = 100\n",
    "wins = 40\n",
    "losses = 60\n",
    "```\n",
    "After training our algorithm and testing it, we get the following results:\n",
    "- 35 predicted wins\n",
    "- 65 predicted losses\n",
    "\n",
    "```\n",
    "predicted_wins = 35\n",
    "predicted_losses = 65\n",
    "```\n",
    "However, not all the predicted wins and predicted losses have the same origin.\n",
    "\n",
    "Some wins were not detected, and some losses were not detected. We can break this down in 4 categories:\n",
    "- 30/40 wins were detected --> We have 30 True Positives (TP)\n",
    "- 10/40 wins were not detected --> We have 10 False Negatives (FN)\n",
    "- 55/60 losses were detected --> We have 55 True Negatives (TN)\n",
    "- 5/60 losses were not detected --> We have 5 False positives (FP)\n",
    "\n",
    "```\n",
    "TP = 30\n",
    "FN = 10\n",
    "TN = 55\n",
    "FP = 5\n",
    "```\n",
    "We have the following definitions for all the important scores:\n",
    "```\n",
    "Accuracy = (TN + TP)/(TN + FP + TP + FN)\n",
    "\n",
    "Precision = TP / TP + FP\n",
    "\n",
    "Recall = TP / TP + FN\n",
    "\n",
    "F1 = 2 * Precision * Recall / (Precision + Recall)\n",
    "```\n",
    "We can plug in our values from the example to get the desired scores.\n",
    "```\n",
    "Accuracy = (55 + 30) / (55 + 5 + 30 + 10) = 85%\n",
    "Precision =  30 / (30 + 5) =  6/7 = 85.7%\n",
    "Recall = 30 / (30 + 10) = 3/4 = 75%\n",
    "F1 = 2 * 6/7 * 3/4 / (6/7 + 3/4) = 0.7999999999999999 ≈ 0.8\n",
    "```\n",
    "Now that we understand the measures and their meaning, we can apply it better to our example.\n",
    "\n",
    "We now know that the most important measures to take into account are accuracy, because we want to predict the biggest amount of correct results, not caring about wether the result is a win or a loss.\n",
    "\n",
    "Also, we want to use F1 because it is a combination of precision and recall, and it can help us to have an algorithm that offers high level of detail when trying to predict either a win or a loss.\n",
    "\n",
    "Luckily, in our case, the best algorithm was the same for both measures, so there was no question about which one we should use."
   ]
  },
  {
   "cell_type": "code",
   "execution_count": null,
   "metadata": {
    "colab": {
     "base_uri": "https://localhost:8080/",
     "height": 82
    },
    "id": "ZsheFbm4bFhB",
    "outputId": "22918009-f5ad-45cf-b1d8-f0226fe3183c"
   },
   "outputs": [
    {
     "data": {
      "text/html": [
       "<table>\n",
       "<tbody>\n",
       "<tr><td>Highest Attribute</td><td>Model Name        </td><td>Parameters</td><td>Value             </td></tr>\n",
       "<tr><td>Accuracy         </td><td>LogisticRegression</td><td>{}        </td><td>0.7718540902223181</td></tr>\n",
       "<tr><td>F1               </td><td>LogisticRegression</td><td>{}        </td><td>0.8266360505166476</td></tr>\n",
       "</tbody>\n",
       "</table>"
      ],
      "text/plain": [
       "<IPython.core.display.HTML object>"
      ]
     },
     "metadata": {},
     "output_type": "display_data"
    }
   ],
   "source": [
    "data = [\n",
    "    [\"Highest Attribute\", \"Model Name\", \"Parameters\", \"Value\"],\n",
    "    [\"Accuracy\", most_accurate['model'], most_accurate['params'], most_accurate['accuracy']],\n",
    "    [\"F1\", most_f1['model'], most_f1['params'], most_f1['f1']]\n",
    "]\n",
    "\n",
    "table = tabulate.tabulate(data, tablefmt='html')\n",
    "\n",
    "display(HTML(table))"
   ]
  },
  {
   "cell_type": "markdown",
   "metadata": {
    "id": "KXdfofbQbPbW"
   },
   "source": [
    "The table above shows that the algorithm we will be using to predict the World Cup is the `LogisticRegression` with default parameters."
   ]
  },
  {
   "cell_type": "markdown",
   "metadata": {
    "id": "wtpf5H_gQHWc"
   },
   "source": [
    "#10.&nbsp;Predicting the 2022 World Cup winner\n",
    "Having tested all the models, we will now decide to use only one model to predict all the games of the world cup.\n",
    "\n",
    "The model we will use is LogisticRegression because using default parameters, it has the best accuracy and F1 score.\n",
    "\n",
    "We will re train the model using 99% of our past data so that it has an even better percentage, and once it is trained we will use it to predict all the future games."
   ]
  },
  {
   "cell_type": "code",
   "execution_count": null,
   "metadata": {
    "id": "8VJUespZCRxV"
   },
   "outputs": [],
   "source": [
    "# change original training dataset to use 99% of it's data for training, for a\n",
    "# better final model accuracy\n",
    "X_train, X_test, y_train, y_test = train_test_split(X, y, random_state=0, \n",
    "                                                    train_size = .99)\n",
    "y_train = y_train.values.ravel()"
   ]
  },
  {
   "cell_type": "code",
   "execution_count": null,
   "metadata": {
    "id": "7uBS_uj4CdAD"
   },
   "outputs": [],
   "source": [
    "# Re Scale the data for the final model\n",
    "sc = StandardScaler()\n",
    "X_train = sc.fit_transform(X_train)\n",
    "X_test = sc.transform(X_test)"
   ]
  },
  {
   "cell_type": "code",
   "execution_count": null,
   "metadata": {
    "colab": {
     "base_uri": "https://localhost:8080/",
     "height": 316
    },
    "id": "CeZspl8sDjDr",
    "outputId": "d4d2e742-7427-4a70-a16e-8d0e2bdb06d4"
   },
   "outputs": [
    {
     "name": "stdout",
     "output_type": "stream",
     "text": [
      "{'precision': 0.8015873015873016, 'recall': 0.8632478632478633, 'accuracy': 0.7795698924731183, 'f1': 0.831275720164609, 'average': 0.818920194368223, 'model': 'LogisticRegression', 'params': dict_items([('C', 1.0), ('class_weight', None), ('dual', False), ('fit_intercept', True), ('intercept_scaling', 1), ('l1_ratio', None), ('max_iter', 100), ('multi_class', 'auto'), ('n_jobs', None), ('penalty', 'l2'), ('random_state', None), ('solver', 'lbfgs'), ('tol', 0.0001), ('verbose', 0), ('warm_start', False)])}\n"
     ]
    },
    {
     "data": {
      "image/png": "[encoded data removed]",
      "text/plain": [
       "<Figure size 432x288 with 1 Axes>"
      ]
     },
     "metadata": {
      "needs_background": "light"
     },
     "output_type": "display_data"
    }
   ],
   "source": [
    "# Create an instance of the Naive Bayes model with default parameters\n",
    "final_model = LogisticRegression()\n",
    "\n",
    "# Train the model using the training sets\n",
    "final_model.fit(X_train,y_train)\n",
    "\n",
    "# Do a prediction on the test data\n",
    "y_pred = final_model.predict(X_test)\n",
    "\n",
    "# Ignore warnings for graph creation\n",
    "warnings.filterwarnings('ignore')\n",
    "\n",
    "# Evaluate the metrics\n",
    "precision = sklearn.metrics.precision_score(y_test, y_pred, pos_label='Win')\n",
    "recall = sklearn.metrics.recall_score(y_test, y_pred, pos_label='Win')\n",
    "accuracy = sklearn.metrics.accuracy_score(y_test, y_pred)\n",
    "f1 = sklearn.metrics.f1_score(y_test, y_pred, pos_label = 'Win')\n",
    "\n",
    "score = {\n",
    "    \"precision\": precision,\n",
    "    \"recall\": recall,\n",
    "    \"accuracy\": accuracy,\n",
    "    \"f1\" : f1,\n",
    "    \"average\" : mean([precision, recall, accuracy, f1]),\n",
    "    \"model\": type(final_model).__name__,\n",
    "    \"params\": final_model.get_params().items()\n",
    "}\n",
    "\n",
    "print(score)\n",
    "\n",
    "disp = sklearn.metrics.plot_precision_recall_curve(final_model, X_test, y_test)"
   ]
  },
  {
   "cell_type": "markdown",
   "metadata": {
    "id": "Bfe4J_9tdL0P"
   },
   "source": [
    "From the results above, we can see that our final model has the following scores:\n",
    "```\n",
    "Accuracy = 0.7795698924731183\n",
    "F1 = 0.831275720164609\n",
    "```\n",
    "So, we have slight improvements over both scores by using more training data. We are now ready to use the model to do all of our predictions.\n",
    "\n"
   ]
  },
  {
   "cell_type": "markdown",
   "metadata": {
    "id": "onMctfEka_RC"
   },
   "source": [
    "## 10.1. Predicting the Group Stages"
   ]
  },
  {
   "cell_type": "code",
   "execution_count": null,
   "metadata": {
    "id": "2MgsPvQ_z9F-"
   },
   "outputs": [],
   "source": [
    "# we import the group stage file which contains all the games\n",
    "gs_df_url = 'https://raw.githubusercontent.com/antonpp11/CSI4106-Project1-DB/master/group_stage_games.csv'\n",
    "gs_df = pd.read_csv(gs_df_url)"
   ]
  },
  {
   "cell_type": "code",
   "execution_count": null,
   "metadata": {
    "id": "zY8byMfZ-1X5"
   },
   "outputs": [],
   "source": [
    "# drop the features to remove, as we have the same file structure\n",
    "gs_df = gs_df.drop(features_to_remove, axis=1)"
   ]
  },
  {
   "cell_type": "code",
   "execution_count": null,
   "metadata": {
    "id": "FoCqIrEa-34L"
   },
   "outputs": [],
   "source": [
    "# apply the date modifications to our group stage dataframe\n",
    "# change dates to datetime format\n",
    "gs_df['date'] = pd.to_datetime(gs_df['date'])\n",
    "\n",
    "# create timestamps by substracting dates using the first game of our dataset\n",
    "gs_df['timedelta_int'] = ((gs_df['date'] - first_game_date).dt.total_seconds() + gs_df.index).astype(int)\n",
    "gs_df = gs_df.drop('date', axis=1)"
   ]
  },
  {
   "cell_type": "code",
   "execution_count": null,
   "metadata": {
    "id": "d0b7uCsj-8v9"
   },
   "outputs": [],
   "source": [
    "# perform one hot encoding for home and away teams\n",
    "gs_df = pd.get_dummies(\n",
    "    data=gs_df,\n",
    "    columns=[\"home_team\", \"away_team\"],\n",
    "    prefix=[\"h\", \"a\"])"
   ]
  },
  {
   "cell_type": "code",
   "execution_count": null,
   "metadata": {
    "id": "XlnQ7xFQ_iVv"
   },
   "outputs": [],
   "source": [
    "# prepare group stage dataset by splitting for train and test\n",
    "\n",
    "# add missing features (because some teams arent qualified to the world cup, \n",
    "# but we still need their columns, albeit empty)\n",
    "for missing_feature in list(set(all_teams_columns) - set(list(gs_df.columns))):\n",
    "  gs_df[missing_feature] = 0\n",
    "# reorder the columns using the original list\n",
    "gs_df = gs_df.reindex(columns=all_teams_columns)\n",
    "\n",
    "# add features for group stage\n",
    "gs_features = list(gs_df.columns)\n",
    "gs_features.remove('home_team_result')\n",
    "\n",
    "\n",
    "# We don't need train, because we only want to predict, hence only testing\n",
    "gs_X_test = gs_df.loc[:, gs_features]\n",
    "gs_y_test = gs_df.loc[:, ['home_team_result']]"
   ]
  },
  {
   "cell_type": "code",
   "execution_count": null,
   "metadata": {
    "id": "Z7wOg5EpAVBM"
   },
   "outputs": [],
   "source": [
    "# We use our scaler used for scaling our prediction data \n",
    "gs_X_test = sc.transform(gs_X_test)"
   ]
  },
  {
   "cell_type": "code",
   "execution_count": null,
   "metadata": {
    "colab": {
     "base_uri": "https://localhost:8080/"
    },
    "id": "zlxh1UkSDyzC",
    "outputId": "a465e335-da3b-4825-b5d2-e0fa54a0339d"
   },
   "outputs": [
    {
     "name": "stdout",
     "output_type": "stream",
     "text": [
      "['Lose' 'Win' 'Lose' 'Win' 'Win' 'Win' 'Win' 'Win' 'Lose' 'Win' 'Win'\n",
      " 'Win' 'Win' 'Win' 'Win' 'Win' 'Lose' 'Lose' 'Win' 'Win' 'Lose' 'Win'\n",
      " 'Win' 'Win' 'Win' 'Win' 'Win' 'Win' 'Lose' 'Win' 'Win' 'Win' 'Win' 'Win'\n",
      " 'Lose' 'Lose' 'Lose' 'Lose' 'Lose' 'Lose' 'Lose' 'Lose' 'Lose' 'Lose'\n",
      " 'Lose' 'Lose' 'Lose' 'Lose']\n"
     ]
    }
   ],
   "source": [
    "# use the final model to predict all the future games\n",
    "gs_y_pred = final_model.predict(gs_X_test)\n",
    "gs_df.insert(len(gs_df.columns), \"home_result_pred\", list(gs_y_pred))"
   ]
  },
  {
   "cell_type": "code",
   "execution_count": null,
   "metadata": {
    "id": "9GctRTqc-7Gc"
   },
   "outputs": [],
   "source": [
    "# export the groups stage df to csv\n",
    "gs_df.to_csv('gs_predictions.csv')"
   ]
  },
  {
   "cell_type": "markdown",
   "metadata": {
    "id": "20dflQHQh92f"
   },
   "source": [
    "We will now calculate the winners or every group using this tool from [(“2022 FIFA World Cup Group Stage Points Simulator”)](#scrollTo=1mRJmI8x3WD0&line=1&uniqifier=1). Every win will be 3-0, to simplify the calculations.\n",
    "\n",
    "You can see the link to the complete result sheet [here](https://raw.githubusercontent.com/antonpp11/CSI4106-Project1-DB/master/group_stage_predictions.csv).\n",
    "\n",
    "Here are the results of every group:\n",
    "- Group A : \n",
    "![picture](https://github.com/antonpp11/CSI4106-Project1-DB/blob/master/Images/Group%20Stage/Group%20A.jpg?raw=true)\n",
    "\n",
    "- Group B : \n",
    "![picture](https://github.com/antonpp11/CSI4106-Project1-DB/blob/master/Images/Group%20Stage/Group%20B.jpg?raw=true)\n",
    "\n",
    "- Group C : \n",
    "![picture](https://github.com/antonpp11/CSI4106-Project1-DB/blob/master/Images/Group%20Stage/Group%20C.jpg?raw=true)\n",
    "\n",
    "- Group D : \n",
    "![picture](https://github.com/antonpp11/CSI4106-Project1-DB/blob/master/Images/Group%20Stage/Group%20D.jpg?raw=true)\n",
    "\n",
    "- Group E : \n",
    "![picture](https://github.com/antonpp11/CSI4106-Project1-DB/blob/master/Images/Group%20Stage/Group%20E.jpg?raw=true)\n",
    "\n",
    "- Group F : \n",
    "![picture](https://github.com/antonpp11/CSI4106-Project1-DB/blob/master/Images/Group%20Stage/Group%20F.jpg?raw=true)\n",
    "\n",
    "- Group G : \n",
    "![picture](https://github.com/antonpp11/CSI4106-Project1-DB/blob/master/Images/Group%20Stage/Group%20G.jpg?raw=true)\n",
    "\n",
    "- Group H : \n",
    "![picture](https://github.com/antonpp11/CSI4106-Project1-DB/blob/master/Images/Group%20Stage/Group%20H.jpg?raw=true)\n",
    "\n",
    "Here is what the knockout stages will look like:\n",
    "\n",
    "\n",
    "  ![picture](https://github.com/antonpp11/CSI4106-Project1-DB/blob/master/Images/Group%20Stage/Knockout%20Stage.jpg?raw=true)"
   ]
  },
  {
   "cell_type": "markdown",
   "metadata": {
    "id": "cPR_8sN0bGk9"
   },
   "source": [
    "## 10.2. Predicting the Round of 16"
   ]
  },
  {
   "cell_type": "code",
   "execution_count": null,
   "metadata": {
    "id": "VcRqK-73sCwD"
   },
   "outputs": [],
   "source": [
    "# we import the file which contains all the future games\n",
    "ks_df_url = 'https://raw.githubusercontent.com/antonpp11/CSI4106-Project1-DB/master/round_of_16_games.csv'\n",
    "ks_df = pd.read_csv(ks_df_url)"
   ]
  },
  {
   "cell_type": "code",
   "execution_count": null,
   "metadata": {
    "id": "5IaqzPjdsugV"
   },
   "outputs": [],
   "source": [
    "# drop the features to remove, as we have the same file structure\n",
    "ks_df = ks_df.drop(features_to_remove, axis=1)"
   ]
  },
  {
   "cell_type": "code",
   "execution_count": null,
   "metadata": {
    "id": "DplSrYtRs0dR"
   },
   "outputs": [],
   "source": [
    "# apply the date modifications to our dataframe\n",
    "# change dates to datetime format\n",
    "ks_df['date'] = pd.to_datetime(ks_df['date'])\n",
    "\n",
    "# create timestamps by substracting dates using the first game of our dataset\n",
    "ks_df['timedelta_int'] = ((ks_df['date'] - first_game_date).dt.total_seconds() + ks_df.index).astype(int)\n",
    "ks_df = ks_df.drop('date', axis=1)"
   ]
  },
  {
   "cell_type": "code",
   "execution_count": null,
   "metadata": {
    "id": "Vj5tME4dtA1h"
   },
   "outputs": [],
   "source": [
    "# perform one hot encoding for home and away teams\n",
    "ks_df = pd.get_dummies(\n",
    "    data=ks_df,\n",
    "    columns=[\"home_team\", \"away_team\"],\n",
    "    prefix=[\"h\", \"a\"])"
   ]
  },
  {
   "cell_type": "code",
   "execution_count": null,
   "metadata": {
    "id": "TM91kyRQtL9N"
   },
   "outputs": [],
   "source": [
    "# prepare the dataset by splitting for train and test\n",
    "\n",
    "# add missing features (because some teams arent qualified to the world cup, \n",
    "# but we still need their columns, albeit empty)\n",
    "for missing_feature in list(set(all_teams_columns) - set(list(ks_df.columns))):\n",
    "  ks_df[missing_feature] = 0\n",
    "# reorder the columns using the original list\n",
    "ks_df = ks_df.reindex(columns=all_teams_columns)\n",
    "\n",
    "# add features for group stage\n",
    "ks_features = list(ks_df.columns)\n",
    "ks_features.remove('home_team_result')\n",
    "\n",
    "\n",
    "# We don't need train, because we only want to predict, hence only testing\n",
    "ks_X_test = ks_df.loc[:, ks_features]\n",
    "ks_y_test = ks_df.loc[:, ['home_team_result']]"
   ]
  },
  {
   "cell_type": "code",
   "execution_count": null,
   "metadata": {
    "id": "wKO2_idOtc2I"
   },
   "outputs": [],
   "source": [
    "# We use our scaler used for scaling our prediction data \n",
    "ks_X_test = sc.transform(ks_X_test)"
   ]
  },
  {
   "cell_type": "code",
   "execution_count": null,
   "metadata": {
    "colab": {
     "base_uri": "https://localhost:8080/"
    },
    "id": "KqAECiNWtkUP",
    "outputId": "e670fe1a-c413-4a6e-affe-95c2a9259325"
   },
   "outputs": [
    {
     "name": "stdout",
     "output_type": "stream",
     "text": [
      "['Win' 'Win' 'Win' 'Win' 'Win' 'Lose' 'Win' 'Win']\n"
     ]
    }
   ],
   "source": [
    "# use the final model to predict all the future games\n",
    "ks_y_pred = final_model.predict(ks_X_test)\n",
    "ks_df.insert(len(ks_df.columns), \"home_result_pred\", list(ks_y_pred))\n",
    "print(ks_y_pred)"
   ]
  },
  {
   "cell_type": "code",
   "execution_count": null,
   "metadata": {
    "id": "5GtSSSkBtuyE"
   },
   "outputs": [],
   "source": [
    "# export the df to csv\n",
    "ks_df.to_csv('ks_predictions.csv')"
   ]
  },
  {
   "cell_type": "markdown",
   "metadata": {
    "id": "aTcH-e9xvk_n"
   },
   "source": [
    "You can see the link to the complete result sheet [here](https://github.com/antonpp11/CSI4106-Project1-DB/blob/master/round_of_16_predictions.csv).\n",
    "\n",
    "The following lines will resume the results of every game.\n",
    "- Netherlands 3 : 0 USA\n",
    "- England 3 : 0 Ecuador\n",
    "- Argentina 3 : 0 Denmark\n",
    "- France 3 : 0 Mexico\n",
    "- Spain 3 : 0 Croatia\n",
    "- Belgium 0 : 3 Germany\n",
    "- Brazil 3 : 0 Uruguay\n",
    "- Portugal 3 : 0 Switzerland\n",
    "\n",
    "Here are the results of the Round of 16:\n",
    "\n",
    "\n",
    "  ![picture](https://github.com/antonpp11/CSI4106-Project1-DB/blob/master/Images/Round%20of%2016/Round%20of%2016%20results.jpg?raw=true)"
   ]
  },
  {
   "cell_type": "markdown",
   "metadata": {
    "id": "jJhgeGisbNc0"
   },
   "source": [
    "## 10.3. Predicting the Quarter Finals\n",
    "\n",
    "Here are the games we want to predict:\n",
    "\n",
    "\n",
    "  ![picture](https://github.com/antonpp11/CSI4106-Project1-DB/blob/master/Images/Quarter%20Finals/Quarter%20Finals%20Games.jpg?raw=true)"
   ]
  },
  {
   "cell_type": "code",
   "execution_count": null,
   "metadata": {
    "id": "JCU3q5aIyEj4"
   },
   "outputs": [],
   "source": [
    "# we import the file which contains all the future games\n",
    "qf_df_url = 'https://raw.githubusercontent.com/antonpp11/CSI4106-Project1-DB/master/quarter_finals_games.csv'\n",
    "qf_df = pd.read_csv(qf_df_url)"
   ]
  },
  {
   "cell_type": "code",
   "execution_count": null,
   "metadata": {
    "id": "rC30plIyySWQ"
   },
   "outputs": [],
   "source": [
    "# drop the features to remove, as we have the same file structure\n",
    "qf_df = qf_df.drop(features_to_remove, axis=1)"
   ]
  },
  {
   "cell_type": "code",
   "execution_count": null,
   "metadata": {
    "id": "e19-BvGRyXbm"
   },
   "outputs": [],
   "source": [
    "# apply the date modifications to our dataframe\n",
    "# change dates to datetime format\n",
    "qf_df['date'] = pd.to_datetime(qf_df['date'])\n",
    "\n",
    "# create timestamps by substracting dates using the first game of our dataset\n",
    "qf_df['timedelta_int'] = ((qf_df['date'] - first_game_date).dt.total_seconds() + qf_df.index).astype(int)\n",
    "qf_df = qf_df.drop('date', axis=1)"
   ]
  },
  {
   "cell_type": "code",
   "execution_count": null,
   "metadata": {
    "id": "YY9CjAx3yjXp"
   },
   "outputs": [],
   "source": [
    "# perform one hot encoding for home and away teams\n",
    "qf_df = pd.get_dummies(\n",
    "    data=qf_df,\n",
    "    columns=[\"home_team\", \"away_team\"],\n",
    "    prefix=[\"h\", \"a\"])"
   ]
  },
  {
   "cell_type": "code",
   "execution_count": null,
   "metadata": {
    "id": "RgvodZPHyqNs"
   },
   "outputs": [],
   "source": [
    "# prepare the dataset by splitting for train and test\n",
    "\n",
    "# add missing features (because some teams arent qualified to the world cup, \n",
    "# but we still need their columns, albeit empty)\n",
    "for missing_feature in list(set(all_teams_columns) - set(list(qf_df.columns))):\n",
    "  qf_df[missing_feature] = 0\n",
    "# reorder the columns using the original list\n",
    "qf_df = qf_df.reindex(columns=all_teams_columns)\n",
    "\n",
    "# add features for group stage\n",
    "qf_features = list(qf_df.columns)\n",
    "qf_features.remove('home_team_result')\n",
    "\n",
    "\n",
    "# We don't need train, because we only want to predict, hence only testing\n",
    "qf_X_test = qf_df.loc[:, qf_features]\n",
    "qf_y_test = qf_df.loc[:, ['home_team_result']]"
   ]
  },
  {
   "cell_type": "code",
   "execution_count": null,
   "metadata": {
    "id": "9NYZxXQRy4sx"
   },
   "outputs": [],
   "source": [
    "# We use our scaler used for scaling our prediction data \n",
    "qf_X_test = sc.transform(qf_X_test)"
   ]
  },
  {
   "cell_type": "code",
   "execution_count": null,
   "metadata": {
    "colab": {
     "base_uri": "https://localhost:8080/"
    },
    "id": "30Z6_bFGy84_",
    "outputId": "a2c96042-2692-4151-c961-c8b3738aa905"
   },
   "outputs": [
    {
     "name": "stdout",
     "output_type": "stream",
     "text": [
      "['Lose' 'Lose' 'Lose' 'Lose']\n"
     ]
    }
   ],
   "source": [
    "# use the final model to predict all the future games\n",
    "qf_y_pred = final_model.predict(qf_X_test)\n",
    "qf_df.insert(len(qf_df.columns), \"home_result_pred\", list(qf_y_pred))\n",
    "print(qf_y_pred)"
   ]
  },
  {
   "cell_type": "code",
   "execution_count": null,
   "metadata": {
    "id": "m1GZTQ2szQ6-"
   },
   "outputs": [],
   "source": [
    "# export the df to csv\n",
    "qf_df.to_csv('qf_predictions.csv')"
   ]
  },
  {
   "cell_type": "markdown",
   "metadata": {
    "id": "vJ3je1LSz7o3"
   },
   "source": [
    "You can see the link to the complete result sheet [here](https://github.com/antonpp11/CSI4106-Project1-DB/blob/master/quarter_finals_predictions.csv).\n",
    "\n",
    "The following lines will resume the results of every game.\n",
    "- Netherlands 0 : 3 Argentina\n",
    "- England 0 : 3 France\n",
    "- Spain 0 : 3 Brazil\n",
    "- Germany 0 : 3 Portugal\n",
    "\n",
    "Here are the results of the Quarter Finals:\n",
    "\n",
    "\n",
    "  ![picture](https://github.com/antonpp11/CSI4106-Project1-DB/blob/master/Images/Quarter%20Finals/Quarter%20Finals%20Results.jpg?raw=true)"
   ]
  },
  {
   "cell_type": "markdown",
   "metadata": {
    "id": "G_N58-LubTiY"
   },
   "source": [
    "## 10.4. Predicting the Semi Finals\n",
    "\n",
    "Here are the games we want to predict:\n",
    "\n",
    "\n",
    "  ![picture](https://github.com/antonpp11/CSI4106-Project1-DB/blob/master/Images/Semi%20Finals/Semi%20Finals%20Games.jpg?raw=true)"
   ]
  },
  {
   "cell_type": "code",
   "execution_count": null,
   "metadata": {
    "id": "rBkTHQJd1IAg"
   },
   "outputs": [],
   "source": [
    "# we import the file which contains all the future games\n",
    "sf_df_url = 'https://raw.githubusercontent.com/antonpp11/CSI4106-Project1-DB/master/semi_finals_games.csv'\n",
    "sf_df = pd.read_csv(sf_df_url)"
   ]
  },
  {
   "cell_type": "code",
   "execution_count": null,
   "metadata": {
    "id": "pTC3Ema51Scb"
   },
   "outputs": [],
   "source": [
    "# drop the features to remove, as we have the same file structure\n",
    "sf_df = sf_df.drop(features_to_remove, axis=1)"
   ]
  },
  {
   "cell_type": "code",
   "execution_count": null,
   "metadata": {
    "id": "bqAIKDBs1XKa"
   },
   "outputs": [],
   "source": [
    "# apply the date modifications to our dataframe\n",
    "# change dates to datetime format\n",
    "sf_df['date'] = pd.to_datetime(sf_df['date'])\n",
    "\n",
    "# create timestamps by substracting dates using the first game of our dataset\n",
    "sf_df['timedelta_int'] = ((sf_df['date'] - first_game_date).dt.total_seconds() + sf_df.index).astype(int)\n",
    "sf_df = sf_df.drop('date', axis=1)"
   ]
  },
  {
   "cell_type": "code",
   "execution_count": null,
   "metadata": {
    "id": "_Sq1kpgf1hVE"
   },
   "outputs": [],
   "source": [
    "# perform one hot encoding for home and away teams\n",
    "sf_df = pd.get_dummies(\n",
    "    data=sf_df,\n",
    "    columns=[\"home_team\", \"away_team\"],\n",
    "    prefix=[\"h\", \"a\"])"
   ]
  },
  {
   "cell_type": "code",
   "execution_count": null,
   "metadata": {
    "id": "tb95_S-l1l57"
   },
   "outputs": [],
   "source": [
    "# prepare the dataset by splitting for train and test\n",
    "\n",
    "# add missing features (because some teams arent qualified to the world cup, \n",
    "# but we still need their columns, albeit empty)\n",
    "for missing_feature in list(set(all_teams_columns) - set(list(sf_df.columns))):\n",
    "  sf_df[missing_feature] = 0\n",
    "# reorder the columns using the original list\n",
    "sf_df = sf_df.reindex(columns=all_teams_columns)\n",
    "\n",
    "# add features for group stage\n",
    "sf_features = list(sf_df.columns)\n",
    "sf_features.remove('home_team_result')\n",
    "\n",
    "\n",
    "# We don't need train, because we only want to predict, hence only testing\n",
    "sf_X_test = sf_df.loc[:, sf_features]\n",
    "sf_y_test = sf_df.loc[:, ['home_team_result']]"
   ]
  },
  {
   "cell_type": "code",
   "execution_count": null,
   "metadata": {
    "id": "7Aks-CqF1yxA"
   },
   "outputs": [],
   "source": [
    "# We use our scaler used for scaling our prediction data \n",
    "sf_X_test = sc.transform(sf_X_test)"
   ]
  },
  {
   "cell_type": "code",
   "execution_count": null,
   "metadata": {
    "colab": {
     "base_uri": "https://localhost:8080/"
    },
    "id": "GbEOtcdt121j",
    "outputId": "40f80cb9-fb18-40b8-b3b0-71cb0df92e9c"
   },
   "outputs": [
    {
     "name": "stdout",
     "output_type": "stream",
     "text": [
      "['Lose' 'Win']\n"
     ]
    }
   ],
   "source": [
    "# use the final model to predict all the future games\n",
    "sf_y_pred = final_model.predict(sf_X_test)\n",
    "sf_df.insert(len(sf_df.columns), \"home_result_pred\", list(sf_y_pred))\n",
    "print(sf_y_pred)"
   ]
  },
  {
   "cell_type": "code",
   "execution_count": null,
   "metadata": {
    "id": "RUt4Blmx2BBm"
   },
   "outputs": [],
   "source": [
    "# export the df to csv\n",
    "sf_df.to_csv('sf_predictions.csv')"
   ]
  },
  {
   "cell_type": "markdown",
   "metadata": {
    "id": "rAWt_lON4LF9"
   },
   "source": [
    "You can see the link to the complete result sheet [here](https://github.com/antonpp11/CSI4106-Project1-DB/blob/master/semi_finals_predictions.csv).\n",
    "\n",
    "The following lines will resume the results of every game.\n",
    "- Argentina 0 : 3 Brazil\n",
    "- France 3 : 0 Portugal\n",
    "\n",
    "Here are the results of the Semi Finals:\n",
    "\n",
    "\n",
    "  ![picture](https://github.com/antonpp11/CSI4106-Project1-DB/blob/master/Images/Semi%20Finals/Semi%20Finals%20Results.jpg?raw=true)"
   ]
  },
  {
   "cell_type": "markdown",
   "metadata": {
    "id": "KRZF8cV8sUVH"
   },
   "source": [
    "## 10.5. Predicting the Finals\n",
    "\n",
    "Here are the games we want to predict:\n",
    "\n",
    "\n",
    "  ![picture](https://github.com/antonpp11/CSI4106-Project1-DB/blob/master/Images/Finals/Finals%20Games.jpg?raw=true)"
   ]
  },
  {
   "cell_type": "code",
   "execution_count": null,
   "metadata": {
    "id": "0f5rqTPI5S98"
   },
   "outputs": [],
   "source": [
    "# we import the file which contains all the future games\n",
    "f_df_url = 'https://raw.githubusercontent.com/antonpp11/CSI4106-Project1-DB/master/finals_games.csv'\n",
    "f_df = pd.read_csv(f_df_url)"
   ]
  },
  {
   "cell_type": "code",
   "execution_count": null,
   "metadata": {
    "id": "poTWGZPM5cpp"
   },
   "outputs": [],
   "source": [
    "# drop the features to remove, as we have the same file structure\n",
    "f_df = f_df.drop(features_to_remove, axis=1)"
   ]
  },
  {
   "cell_type": "code",
   "execution_count": null,
   "metadata": {
    "id": "hTCIuB9P5hUe"
   },
   "outputs": [],
   "source": [
    "# apply the date modifications to our dataframe\n",
    "# change dates to datetime format\n",
    "f_df['date'] = pd.to_datetime(f_df['date'])\n",
    "\n",
    "# create timestamps by substracting dates using the first game of our dataset\n",
    "f_df['timedelta_int'] = ((f_df['date'] - first_game_date).dt.total_seconds() + f_df.index).astype(int)\n",
    "f_df = f_df.drop('date', axis=1)"
   ]
  },
  {
   "cell_type": "code",
   "execution_count": null,
   "metadata": {
    "id": "sGLxWCt35oIy"
   },
   "outputs": [],
   "source": [
    "# perform one hot encoding for home and away teams\n",
    "f_df = pd.get_dummies(\n",
    "    data=f_df,\n",
    "    columns=[\"home_team\", \"away_team\"],\n",
    "    prefix=[\"h\", \"a\"])"
   ]
  },
  {
   "cell_type": "code",
   "execution_count": null,
   "metadata": {
    "id": "-oMU-j3H5ru3"
   },
   "outputs": [],
   "source": [
    "# prepare the dataset by splitting for train and test\n",
    "\n",
    "# add missing features (because some teams arent qualified to the world cup, \n",
    "# but we still need their columns, albeit empty)\n",
    "for missing_feature in list(set(all_teams_columns) - set(list(f_df.columns))):\n",
    "  f_df[missing_feature] = 0\n",
    "# reorder the columns using the original list\n",
    "f_df = f_df.reindex(columns=all_teams_columns)\n",
    "\n",
    "# add features for group stage\n",
    "f_features = list(f_df.columns)\n",
    "f_features.remove('home_team_result')\n",
    "\n",
    "\n",
    "# We don't need train, because we only want to predict, hence only testing\n",
    "f_X_test = f_df.loc[:, f_features]\n",
    "f_y_test = f_df.loc[:, ['home_team_result']]"
   ]
  },
  {
   "cell_type": "code",
   "execution_count": null,
   "metadata": {
    "id": "bhiSbeEK501C"
   },
   "outputs": [],
   "source": [
    "# We use our scaler used for scaling our prediction data \n",
    "f_X_test = sc.transform(f_X_test)"
   ]
  },
  {
   "cell_type": "code",
   "execution_count": null,
   "metadata": {
    "colab": {
     "base_uri": "https://localhost:8080/"
    },
    "id": "bkETkts054q8",
    "outputId": "370e40d9-0a75-48c8-8dcb-bd343e635a27"
   },
   "outputs": [
    {
     "name": "stdout",
     "output_type": "stream",
     "text": [
      "['Lose']\n"
     ]
    }
   ],
   "source": [
    "# use the final model to predict all the future games\n",
    "f_y_pred = final_model.predict(f_X_test)\n",
    "f_df.insert(len(f_df.columns), \"home_result_pred\", list(f_y_pred))\n",
    "print(f_y_pred)"
   ]
  },
  {
   "cell_type": "code",
   "execution_count": null,
   "metadata": {
    "id": "QczxnjuA5_cG"
   },
   "outputs": [],
   "source": [
    "# export the df to csv\n",
    "f_df.to_csv('f_predictions.csv')"
   ]
  },
  {
   "cell_type": "markdown",
   "metadata": {
    "id": "REQ3HOFS6ZhU"
   },
   "source": [
    "You can see the link to the complete result sheet [here](https://github.com/antonpp11/CSI4106-Project1-DB/blob/master/finals_prediction.csv).\n",
    "\n",
    "The following lines will resume the results of every game.\n",
    "- Brazil 0 : 3 France\n",
    "\n",
    "Here are the results of the Final:\n",
    "\n",
    "\n",
    "  ![picture](https://github.com/antonpp11/CSI4106-Project1-DB/blob/master/Images/Finals/Finals%20Results.jpg?raw=true)"
   ]
  },
  {
   "cell_type": "markdown",
   "metadata": {
    "id": "sKuK8jxP6vF2"
   },
   "source": [
    "#11.&nbsp;The 2022 World Cup Winner\n",
    "![image](https://upload.wikimedia.org/wikipedia/commons/e/e5/France_champion_of_the_Football_World_Cup_Russia_2018.jpg)"
   ]
  },
  {
   "cell_type": "markdown",
   "metadata": {
    "id": "4bzToeNZ4LIt"
   },
   "source": [
    "#12.&nbsp;Conclusion\n",
    "\n",
    "In conclusion, this project helped us define, analyse and differentiate 3 different type of classification algorithms: Naïve Bayes, Logisitc Regression and Multi-Layer Perceptron. We also studied the effects of the parameters for each algorithm by changing them and comparing the results. We noticed that a single dimensional algorithm doesn't require as much processing power and ressources as a multi-layer algorithm. However, there is a downside to it: it is less accurate. \n",
    "\n",
    "To top it off, we also predicted the winner of the men's 2022 FIFA World Cup that will be happening in Qatar this November. Hopefully, our most effective algorithm got it right. "
   ]
  },
  {
   "cell_type": "markdown",
   "metadata": {
    "id": "-KbbYxZtctYv"
   },
   "source": [
    "#13.&nbsp;Bibliography"
   ]
  },
  {
   "cell_type": "markdown",
   "metadata": {
    "id": "1mRJmI8x3WD0"
   },
   "source": [
    "- “2022 FIFA World Cup Group Stage Points Simulator.” ULTRAZONE, [ultra.zone/2022-FIFA-World-Cup-Group-Stage](https://ultra.zone/2022-FIFA-World-Cup-Group-Stage). Accessed 29 Oct. 2022."
   ]
  },
  {
   "cell_type": "markdown",
   "metadata": {
    "id": "x_9U3qjq3YWe"
   },
   "source": [
    "\n",
    "- Afonja, Tejumade. “Model Evaluation I: Precision and Recall.” Medium, 11 Dec. 2017, [towardsdatascience.com/model-evaluation-i-precision-and-recall-166ddb257c7b](https://towardsdatascience.com/model-evaluation-i-precision-and-recall-166ddb257c7b). Accessed 29 Oct. 2022."
   ]
  },
  {
   "cell_type": "markdown",
   "metadata": {
    "id": "damyzQg57tV_"
   },
   "source": [
    "- Hegde, Sushmitha. \"Is there An Actual Home Field Advantage When A Sports Team Plays In Their Home Stadium?\" Science ABC, 22 January 2022, [https://www.scienceabc.com/social-science/is-there-an-actual-home-field-advantage-when-a-sports-team-plays-in-their-home-stadium.html](https://www.scienceabc.com/social-science/is-there-an-actual-home-field-advantage-when-a-sports-team-plays-in-their-home-stadium.html). Accessed 29 Oct. 2022. "
   ]
  },
  {
   "cell_type": "markdown",
   "metadata": {
    "id": "zqY2c-NA3azL"
   },
   "source": [
    "- Huilgol, Purva. “Precision vs Recall | Precision and Recall Machine Learning.” Analytics Vidhya, 3 Sept. 2020, [www.analyticsvidhya.com/blog/2020/09/precision-recall-machine-learning/](https://www.analyticsvidhya.com/blog/2020/09/precision-recall-machine-learning/). Accessed 29 Oct. 2022."
   ]
  },
  {
   "cell_type": "markdown",
   "metadata": {
    "id": "iopsxD81TPBP"
   },
   "source": [
    "- Loznik, Brenda. “FIFA World Cup 2022.” Www.kaggle.com, 2022, [www.kaggle.com/datasets/brenda89/fifa-world-cup-2022](https://www.kaggle.com/datasets/brenda89/fifa-world-cup-2022). Accessed 29 Oct. 2022.\n",
    "‌"
   ]
  },
  {
   "cell_type": "markdown",
   "metadata": {
    "id": "GrBBiv3d3eCj"
   },
   "source": [
    "- Panjeh. “Scikit Learn Hyperparameter Optimization for MLPClassifier.” Medium, 29 June 2020, [panjeh.medium.com/scikit-learn-hyperparameter-optimization-for-mlpclassifier-4d670413042b](https://panjeh.medium.com/scikit-learn-hyperparameter-optimization-for-mlpclassifier-4d670413042b). Accessed 29 Oct. 2022."
   ]
  },
  {
   "cell_type": "markdown",
   "metadata": {
    "id": "LJPxmVrggr4H"
   },
   "source": [
    "- Pellerin-Petrov, Anton, and Alexander Onofrei. “CSI4106-Project1-DB.” GitHub, 13 Oct. 2022, [github.com/antonpp11/CSI4106-Project1-DB](https://github.com/antonpp11/CSI4106-Project1-DB). Accessed 30 Oct. 2022."
   ]
  },
  {
   "cell_type": "markdown",
   "metadata": {
    "id": "1J0I5M7G3gkD"
   },
   "source": [
    "- Sagir, Umut. “Naive Bayes Classifier Optimization & Parameters.” HolyPython.com, 2019, [holypython.com/nbc/naive-bayes-classifier-optimization-parameters/](https://holypython.com/nbc/naive-bayes-classifier-optimization-parameters/). Accessed 29 Oct. 2022."
   ]
  },
  {
   "cell_type": "markdown",
   "metadata": {
    "id": "NYIGA4kB661Z"
   },
   "source": [
    "- scikit-learn developers. “3.3. Metrics and Scoring: Quantifying the Quality of Predictions — Scikit-Learn 0.22.1 Documentation.” Scikit-Learn.org, 2010, [scikit-learn.org/stable/modules/model_evaluation.html](https://scikit-learn.org/stable/modules/model_evaluation.html). Accessed 29 Oct. 2022.\n",
    "‌"
   ]
  },
  {
   "cell_type": "markdown",
   "metadata": {
    "id": "95cB783D3jQ6"
   },
   "source": [
    "- scikit-learn developers. “Sklearn.linear_model.LogisticRegression — Scikit-Learn 0.21.2 Documentation.” Scikit-Learn.org, 2014, [scikit-learn.org/stable/modules/generated/sklearn.linear_model.LogisticRegression.html](https://scikit-learn.org/stable/modules/generated/sklearn.linear_model.LogisticRegression.html). Accessed 29 Oct. 2022."
   ]
  },
  {
   "cell_type": "markdown",
   "metadata": {
    "id": "t-tK6YBO3lbl"
   },
   "source": [
    "- scikit-learn developers. “Sklearn.naive_bayes.GaussianNB — Scikit-Learn 0.22.1 Documentation.” Scikit-Learn.org, 2011, [scikit-learn.org/stable/modules/generated/sklearn.naive_bayes.GaussianNB.html](https://scikit-learn.org/stable/modules/generated/sklearn.naive_bayes.GaussianNB.html). Accessed 29 Oct. 2022."
   ]
  },
  {
   "cell_type": "markdown",
   "metadata": {
    "id": "hSYk4HZ-3nFi"
   },
   "source": [
    "- scikit-learn developers. “Sklearn.neural_network.MLPClassifier — Scikit-Learn 0.20.3 Documentation.” Scikit-Learn.org, 2010, [scikit-learn.org/stable/modules/generated/sklearn.neural_network.MLPClassifier.html](https://scikit-learn.org/stable/modules/generated/sklearn.neural_network.MLPClassifier.html). Accessed 29 Oct. 2022."
   ]
  },
  {
   "cell_type": "markdown",
   "metadata": {
    "id": "O7ZuHG5y3qBe"
   },
   "source": [
    "- Stojiljković, Mirko. “Logistic Regression in Python – Real Python.” Realpython.com, 2019, [realpython.com/logistic-regression-python/](https://realpython.com/logistic-regression-python/). Accessed 29 Oct. 2022."
   ]
  },
  {
   "cell_type": "markdown",
   "metadata": {
    "id": "QO01m4oTMu-b"
   },
   "source": [
    "- Vadakattu, Aadarsh. “Pretty Displaying Tricks for Columnar Data in Python.” Medium, 30 May 2021, [towardsdatascience.com/pretty-displaying-tricks-for-columnar-data-in-python-2fe3b3ed9b83](https://towardsdatascience.com/pretty-displaying-tricks-for-columnar-data-in-python-2fe3b3ed9b83). Accessed 29 Oct. 2022."
   ]
  }
 ],
 "metadata": {
  "colab": {
   "collapsed_sections": [
    "0nvRCKtwZqlW",
    "r8pxT6FDZtwx"
   ],
   "provenance": [],
   "toc_visible": true
  },
  "kernelspec": {
   "display_name": "Python 3 (ipykernel)",
   "language": "python",
   "name": "python3"
  },
  "language_info": {
   "codemirror_mode": {
    "name": "ipython",
    "version": 3
   },
   "file_extension": ".py",
   "mimetype": "text/x-python",
   "name": "python",
   "nbconvert_exporter": "python",
   "pygments_lexer": "ipython3",
   "version": "3.10.8"
  }
 },
 "nbformat": 4,
 "nbformat_minor": 1
}
